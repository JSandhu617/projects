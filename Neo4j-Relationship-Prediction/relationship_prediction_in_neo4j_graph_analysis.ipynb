{
  "metadata": {
    "celltoolbar": "Raw Cell Format",
    "kernelspec": {
      "name": "python3",
      "display_name": "Python 3",
      "language": "python"
    },
    "language_info": {
      "name": "python",
      "version": "3.10.10",
      "mimetype": "text/x-python",
      "codemirror_mode": {
        "name": "ipython",
        "version": 3
      },
      "pygments_lexer": "ipython3",
      "nbconvert_exporter": "python",
      "file_extension": ".py"
    },
    "colab": {
      "provenance": []
    }
  },
  "nbformat_minor": 5,
  "nbformat": 4,
  "cells": [
    {
      "cell_type": "markdown",
      "source": [
        "# Predicting future actor collaborations using Graph Analytics in Neo4j"
      ],
      "metadata": {
        "id": "GtW-V3wndeAQ"
      },
      "id": "GtW-V3wndeAQ"
    },
    {
      "cell_type": "markdown",
      "source": [
        "## Introduction"
      ],
      "metadata": {
        "id": "QkDgh5dCdeAS"
      },
      "id": "QkDgh5dCdeAS"
    },
    {
      "cell_type": "markdown",
      "source": [
        "* **Objective**: use graph features to predict future collaboration between actors based on previous collaboration.\n",
        "\n",
        "* 4 models are trained and tested using different set of graph features.\n",
        "\n",
        "* The last section presents the importance of each of the features used on the prediction performance.\n",
        "\n",
        "* The graph parameters used are: Common neighbors, preferential attachment, total neighbors, triangles count, clustering coefficient, Louvain coefficient, and partition community detection.\n",
        "\n",
        "Note: this paper is based on the notebook ‘Analyze netflix data using graphs (neo4j)’ published by [Yann Claudel.](https://www.kaggle.com/code/yclaudel/analyze-netflix-data-using-graphs-neo4j)\n"
      ],
      "metadata": {
        "id": "DlegXcKPdeAT"
      },
      "id": "DlegXcKPdeAT"
    },
    {
      "cell_type": "markdown",
      "source": [
        "Diagram of the nodes and relationships\n",
        "\n",
        "![asdf.PNG](attachment:0b2e4112-4b3b-4f50-b416-57d1ba3c62de.PNG)"
      ],
      "metadata": {
        "id": "bIZuptCHdeAU"
      },
      "id": "bIZuptCHdeAU"
    },
    {
      "cell_type": "markdown",
      "source": [
        "# Neoj4 configuration"
      ],
      "metadata": {
        "id": "2Vy1apdadeAV"
      },
      "id": "2Vy1apdadeAV"
    },
    {
      "cell_type": "markdown",
      "source": [
        "To interact with Neo4j, you need a Sandbox Neo4j.\n",
        "​\n",
        "For this project, I am using the Neo4j desktop version and running the sandbox in my localhost browser, you can install Neo4j following the instruction in this [link](https://neo4j.com/download/).\n",
        "​\n",
        "An online sandbox can be launched for 3 days [here](https://neo4j.com/sandbox/), you just have to sign in.\n",
        "​\n",
        "In this notebook, I am connecting with my localhost running Neo4j installed in my desktop.\n",
        "​\n",
        "**Steps to connect Neo4j desktop and Jupiter notebook:**\n",
        "​\n",
        "* Run the neo4j desktop app\n",
        "* Create a new project (+new button)\n",
        "* Within the project, create a new Graph DBMS (+add button)\n",
        "* Select the 'Local DBMS' option in the menu\n",
        "* When creating the Graph DBMS, select a password and write it down as you will need it later.\n",
        "* This notebook is using the 5.3.0 neo4j version **5.3.0**\n",
        "* Once created, click it to open the option toolbar on the right hand side, select the Plugins option and install APOC and Graph Data Science Library\n",
        "* Then, click on the three dots next to the open button, and select settings\n",
        "* Go to the button of the text file and change the memory.heap.max_size by 6G\n",
        "\n",
        "![eeee.PNG](attachment:9fb07807-eefa-4b67-92f7-77c06a64b675.PNG)"
      ],
      "metadata": {
        "id": "OgUUnz3KdeAV"
      },
      "id": "OgUUnz3KdeAV"
    },
    {
      "cell_type": "markdown",
      "source": [
        "## Import the dataset to Neo4j"
      ],
      "metadata": {
        "id": "AErnNNIideAW"
      },
      "id": "AErnNNIideAW"
    },
    {
      "cell_type": "markdown",
      "source": [
        "To import the dataset to neo4j first:\n",
        "​\n",
        "* Open the import folder\n",
        "​\n",
        "![zzz.PNG](attachment:28c5b61d-93e4-403f-823f-f4a619f8de3e.PNG)\n",
        "​\n",
        "* Copy and past the dataset in the import folder\n",
        "* Press the start button to run the neo4j sandbox\n",
        "* When running, you will receive a notification that the process was successful\n",
        "* Finally, open the virtual sandbox by selecting the open button and Neo4j Browser option.\n",
        "* **At this point, you should have neo4j running in your localhost and ready to start coding in your notebook**"
      ],
      "metadata": {
        "id": "ecOgrUr5deAW"
      },
      "id": "ecOgrUr5deAW"
    },
    {
      "cell_type": "markdown",
      "source": [
        "# Coding in Jupyter Notebook"
      ],
      "metadata": {
        "id": "fKvmGTzndeAW"
      },
      "id": "fKvmGTzndeAW"
    },
    {
      "cell_type": "code",
      "source": [
        "!pip install py2neo pandas"
      ],
      "metadata": {
        "id": "g0Hekn2AdeAX"
      },
      "execution_count": null,
      "outputs": [],
      "id": "g0Hekn2AdeAX"
    },
    {
      "cell_type": "code",
      "source": [
        "import numpy as np\n",
        "import pandas as pd\n",
        "from py2neo import Graph\n",
        "import matplotlib.pyplot as plt\n",
        "plt.style.use('seaborn-whitegrid')\n",
        "import time"
      ],
      "metadata": {
        "id": "XnJ8zzbvdeAY"
      },
      "execution_count": null,
      "outputs": [],
      "id": "XnJ8zzbvdeAY"
    },
    {
      "cell_type": "code",
      "source": [
        "plt.style.use('fivethirtyeight')\n",
        "pd.set_option('display.float_format', lambda x: '%.3f' % x)\n",
        "from collections import Counter\n",
        "from sklearn.ensemble import RandomForestClassifier\n",
        "\n",
        "from sklearn.metrics import recall_score\n",
        "from sklearn.metrics import precision_score\n",
        "from sklearn.metrics import accuracy_score\n",
        "from sklearn.metrics import roc_auc_score\n",
        "from sklearn.metrics import confusion_matrix"
      ],
      "metadata": {
        "id": "2pc4g6aZdeAY"
      },
      "execution_count": null,
      "outputs": [],
      "id": "2pc4g6aZdeAY"
    },
    {
      "cell_type": "code",
      "source": [
        "df = pd.read_csv('/kaggle/input/netflix-popular-movies-dataset/n_movies.csv')\n",
        "df.head()"
      ],
      "metadata": {
        "id": "tq74GnzhdeAY",
        "outputId": "9e6e3143-5fba-4c26-8cd8-3fa0eb18db28"
      },
      "execution_count": null,
      "outputs": [
        {
          "execution_count": 4,
          "output_type": "execute_result",
          "data": {
            "text/html": [
              "<div>\n",
              "<style scoped>\n",
              "    .dataframe tbody tr th:only-of-type {\n",
              "        vertical-align: middle;\n",
              "    }\n",
              "\n",
              "    .dataframe tbody tr th {\n",
              "        vertical-align: top;\n",
              "    }\n",
              "\n",
              "    .dataframe thead th {\n",
              "        text-align: right;\n",
              "    }\n",
              "</style>\n",
              "<table border=\"1\" class=\"dataframe\">\n",
              "  <thead>\n",
              "    <tr style=\"text-align: right;\">\n",
              "      <th></th>\n",
              "      <th>movie_id</th>\n",
              "      <th>title</th>\n",
              "      <th>year</th>\n",
              "      <th>classification</th>\n",
              "      <th>duration_min</th>\n",
              "      <th>genre</th>\n",
              "      <th>rating</th>\n",
              "      <th>description</th>\n",
              "      <th>stars</th>\n",
              "      <th>votes</th>\n",
              "    </tr>\n",
              "  </thead>\n",
              "  <tbody>\n",
              "    <tr>\n",
              "      <th>0</th>\n",
              "      <td>1</td>\n",
              "      <td>Cobra Kai</td>\n",
              "      <td>2018</td>\n",
              "      <td>TV-14</td>\n",
              "      <td>30</td>\n",
              "      <td>Action,Comedy,Drama</td>\n",
              "      <td>8.500</td>\n",
              "      <td>Decades after their 1984 All Valley Karate Tou...</td>\n",
              "      <td>Ralph Macchio,William Zabka,Courtney Henggeler...</td>\n",
              "      <td>177,031</td>\n",
              "    </tr>\n",
              "    <tr>\n",
              "      <th>1</th>\n",
              "      <td>2</td>\n",
              "      <td>The Crown</td>\n",
              "      <td>2016</td>\n",
              "      <td>TV-MA</td>\n",
              "      <td>58</td>\n",
              "      <td>Biography,Drama,History</td>\n",
              "      <td>8.700</td>\n",
              "      <td>Follows the political rivalries and romance of...</td>\n",
              "      <td>Claire Foy,Olivia Colman,Imelda Staunton,Matt ...</td>\n",
              "      <td>199,885</td>\n",
              "    </tr>\n",
              "    <tr>\n",
              "      <th>2</th>\n",
              "      <td>3</td>\n",
              "      <td>Better Call Saul</td>\n",
              "      <td>2022</td>\n",
              "      <td>TV-MA</td>\n",
              "      <td>46</td>\n",
              "      <td>Crime,Drama</td>\n",
              "      <td>8.900</td>\n",
              "      <td>The trials and tribulations of criminal lawyer...</td>\n",
              "      <td>Bob Odenkirk,Rhea Seehorn,Jonathan Banks,Patri...</td>\n",
              "      <td>501,384</td>\n",
              "    </tr>\n",
              "    <tr>\n",
              "      <th>3</th>\n",
              "      <td>4</td>\n",
              "      <td>Devil in Ohio</td>\n",
              "      <td>2022</td>\n",
              "      <td>TV-MA</td>\n",
              "      <td>356</td>\n",
              "      <td>Drama,Horror,Mystery</td>\n",
              "      <td>5.900</td>\n",
              "      <td>When a psychiatrist shelters a mysterious cult...</td>\n",
              "      <td>Emily Deschanel,Sam Jaeger,Gerardo Celasco,Mad...</td>\n",
              "      <td>9,773</td>\n",
              "    </tr>\n",
              "    <tr>\n",
              "      <th>4</th>\n",
              "      <td>5</td>\n",
              "      <td>Cyberpunk: Edgerunners</td>\n",
              "      <td>2022</td>\n",
              "      <td>TV-MA</td>\n",
              "      <td>24</td>\n",
              "      <td>Animation,Action,Adventure</td>\n",
              "      <td>8.600</td>\n",
              "      <td>A Street Kid trying to survive in a technology...</td>\n",
              "      <td>Zach Aguilar,Kenichiro Ohashi,Emi Lo,Aoi Yki</td>\n",
              "      <td>15,413</td>\n",
              "    </tr>\n",
              "  </tbody>\n",
              "</table>\n",
              "</div>"
            ],
            "text/plain": [
              "   movie_id                   title  year classification  duration_min  \\\n",
              "0         1               Cobra Kai  2018          TV-14            30   \n",
              "1         2               The Crown  2016          TV-MA            58   \n",
              "2         3        Better Call Saul  2022          TV-MA            46   \n",
              "3         4           Devil in Ohio  2022          TV-MA           356   \n",
              "4         5  Cyberpunk: Edgerunners  2022          TV-MA            24   \n",
              "\n",
              "                        genre  rating  \\\n",
              "0         Action,Comedy,Drama   8.500   \n",
              "1     Biography,Drama,History   8.700   \n",
              "2                 Crime,Drama   8.900   \n",
              "3        Drama,Horror,Mystery   5.900   \n",
              "4  Animation,Action,Adventure   8.600   \n",
              "\n",
              "                                         description  \\\n",
              "0  Decades after their 1984 All Valley Karate Tou...   \n",
              "1  Follows the political rivalries and romance of...   \n",
              "2  The trials and tribulations of criminal lawyer...   \n",
              "3  When a psychiatrist shelters a mysterious cult...   \n",
              "4  A Street Kid trying to survive in a technology...   \n",
              "\n",
              "                                               stars    votes  \n",
              "0  Ralph Macchio,William Zabka,Courtney Henggeler...  177,031  \n",
              "1  Claire Foy,Olivia Colman,Imelda Staunton,Matt ...  199,885  \n",
              "2  Bob Odenkirk,Rhea Seehorn,Jonathan Banks,Patri...  501,384  \n",
              "3  Emily Deschanel,Sam Jaeger,Gerardo Celasco,Mad...    9,773  \n",
              "4       Zach Aguilar,Kenichiro Ohashi,Emi Lo,Aoi Yki   15,413  "
            ]
          },
          "metadata": {}
        }
      ],
      "id": "tq74GnzhdeAY"
    },
    {
      "cell_type": "markdown",
      "source": [
        "## Connection neo4j and jupyter notebook"
      ],
      "metadata": {
        "id": "OVM_3ga2deAZ"
      },
      "id": "OVM_3ga2deAZ"
    },
    {
      "cell_type": "code",
      "source": [
        "#In this code just change the password for your password\n",
        "graph = Graph(\"bolt://localhost\", auth=(\"neo4j\", \"Chicharo2\"))"
      ],
      "metadata": {
        "id": "TTHFxUdydeAZ"
      },
      "execution_count": null,
      "outputs": [],
      "id": "TTHFxUdydeAZ"
    },
    {
      "cell_type": "code",
      "source": [
        "#Set true to load all the nodes and relationship\n",
        "LOAD_DATA = True\n",
        "#Set False after creating all the nodes to avoid creating them again\n",
        "\n",
        "def run_request(request,LOAD_DATA=False):\n",
        "    if (LOAD_DATA):\n",
        "        start_time = time.time()\n",
        "        print(graph.run(request))\n",
        "        exec_time = time.time() - start_time\n",
        "        print(f'-- {exec_time} seconds --')"
      ],
      "metadata": {
        "id": "_yljwKkgdeAZ"
      },
      "execution_count": null,
      "outputs": [],
      "id": "_yljwKkgdeAZ"
    },
    {
      "cell_type": "code",
      "source": [
        "# DELETE ALL NODES AND RELATIONSHIPS\n",
        "request_delete =\"\"\"\n",
        "MATCH (n) DETACH DELETE n;\n",
        "\"\"\"\n",
        "run_request(request_delete,LOAD_DATA)"
      ],
      "metadata": {
        "id": "Gh-ba1S3deAZ",
        "outputId": "179e6c66-d73e-4feb-8ea7-1454f4c61b1f"
      },
      "execution_count": null,
      "outputs": [
        {
          "name": "stdout",
          "output_type": "stream",
          "text": "(No data)\n\n-- 0.08922600746154785 seconds --\n"
        }
      ],
      "id": "Gh-ba1S3deAZ"
    },
    {
      "cell_type": "code",
      "source": [
        "# CREATE MOVIES\n",
        "\n",
        "request =\"\"\"\n",
        "CREATE (m:Movie {id: $movie_id,title: $title})\n",
        "SET\n",
        "m.year = $year,\n",
        "m.classification = $classification,\n",
        "m.duration_min = $duration_min,\n",
        "m.genre = $genre,\n",
        "m.rating = $rating,\n",
        "m.stars = $stars,\n",
        "m.votes = $votes\n",
        "\"\"\"\n",
        "start_time = time.time()\n",
        "count=df.shape[0]\n",
        "if (LOAD_DATA):\n",
        "    for index, row in df.iterrows():\n",
        "        graph.run(request,\n",
        "                  movie_id=row['movie_id'],\n",
        "                  title=row['title'],\n",
        "                  duration_min=None if pd.isnull(row['duration_min']) else row['duration_min'],\n",
        "                  genre=None if pd.isnull(row['genre']) else row['genre'],\n",
        "                  classification=None if pd.isnull(row['classification']) else row['classification'],\n",
        "                  stars= None if pd.isnull(row['stars']) else row['stars'],\n",
        "                  year=None if pd.isnull(row['year']) else row['year'],\n",
        "                  rating=None if pd.isnull(row['rating']) else row['rating'],\n",
        "                  votes=None if pd.isnull(row['votes']) else row['votes']\n",
        "                  )\n",
        "        if (index%500==0):\n",
        "            exec_time = time.time() - start_time\n",
        "            print(f'{index}/{df.shape[0]} done ... -- {exec_time} seconds --')\n",
        "\n",
        "    exec_time = time.time() - start_time\n",
        "    print(f' ... End ... -- {exec_time} seconds --')"
      ],
      "metadata": {
        "id": "xq8jsTYxdeAa",
        "outputId": "9057ecdb-6a7f-4c10-862c-44d7cd5802fb"
      },
      "execution_count": null,
      "outputs": [
        {
          "name": "stdout",
          "output_type": "stream",
          "text": "0/7162 done ... -- 0.12423396110534668 seconds --\n\n500/7162 done ... -- 2.8049380779266357 seconds --\n\n1000/7162 done ... -- 4.970197677612305 seconds --\n\n1500/7162 done ... -- 6.9788007736206055 seconds --\n\n2000/7162 done ... -- 9.021366119384766 seconds --\n\n2500/7162 done ... -- 10.981455087661743 seconds --\n\n3000/7162 done ... -- 12.835126638412476 seconds --\n\n3500/7162 done ... -- 14.728368520736694 seconds --\n\n4000/7162 done ... -- 16.7145414352417 seconds --\n\n4500/7162 done ... -- 18.5065758228302 seconds --\n\n5000/7162 done ... -- 20.32051134109497 seconds --\n\n5500/7162 done ... -- 22.01297903060913 seconds --\n\n6000/7162 done ... -- 23.64810609817505 seconds --\n\n6500/7162 done ... -- 25.307291984558105 seconds --\n\n7000/7162 done ... -- 26.933125972747803 seconds --\n\n ... End ... -- 27.461460828781128 seconds --\n"
        }
      ],
      "id": "xq8jsTYxdeAa"
    },
    {
      "cell_type": "code",
      "source": [
        "# CREATE  PERSONS\n",
        "request =\"\"\"\n",
        "MATCH (m:Movie)\n",
        "WHERE m.stars IS NOT NULL\n",
        "WITH m\n",
        "UNWIND split(m.stars, ',') AS actor\n",
        "MERGE (a:Actor {name: trim(actor)})\n",
        "MERGE (a)-[r:ACTED_IN]->(m);\n",
        "\"\"\"\n",
        "run_request(request,LOAD_DATA)"
      ],
      "metadata": {
        "id": "809sNaG_deAa",
        "outputId": "3c39b771-f9a0-48c4-cd86-748195d5b125"
      },
      "execution_count": null,
      "outputs": [
        {
          "name": "stdout",
          "output_type": "stream",
          "text": "(No data)\n\n-- 119.89181542396545 seconds --\n"
        }
      ],
      "id": "809sNaG_deAa"
    },
    {
      "cell_type": "code",
      "source": [
        "# CREATE CATEGORIES\n",
        "request =\"\"\"\n",
        "MATCH (m:Movie)\n",
        "WHERE m.genre IS NOT NULL\n",
        "WITH m\n",
        "UNWIND split(m.genre, ',') AS genre\n",
        "MERGE (g:Genre {name: trim(genre)})\n",
        "MERGE (m)-[r:IN_GENRE]->(g);\n",
        "\"\"\"\n",
        "run_request(request,LOAD_DATA)"
      ],
      "metadata": {
        "id": "6WvEQiJ2deAa",
        "outputId": "93dff42f-91a7-4bc5-94ce-424cc3bcb5eb"
      },
      "execution_count": null,
      "outputs": [
        {
          "name": "stdout",
          "output_type": "stream",
          "text": "(No data)\n\n-- 0.6003000736236572 seconds --\n"
        }
      ],
      "id": "6WvEQiJ2deAa"
    },
    {
      "cell_type": "code",
      "source": [
        "# DELETE UNUSED PROPERTY\n",
        "request=\"\"\"\n",
        "MATCH(m:Movie)\n",
        "SET m.country = null, m.category = null,m.type = null , m.director = null , m.cast =null\n",
        "\"\"\"\n",
        "run_request(request,LOAD_DATA)"
      ],
      "metadata": {
        "id": "EwhticIedeAb",
        "outputId": "978fb398-970f-4cff-8d5f-4128e77a7536"
      },
      "execution_count": null,
      "outputs": [
        {
          "name": "stdout",
          "output_type": "stream",
          "text": "(No data)\n\n-- 0.07618927955627441 seconds --\n"
        }
      ],
      "id": "EwhticIedeAb"
    },
    {
      "cell_type": "code",
      "source": [
        "request=\"\"\"\n",
        "MATCH (g:Genre)<-[rel:IN_GENRE]-(m:Movie)\n",
        "WITH g.name as genre,count(*) as total\n",
        "RETURN  genre,total\n",
        "ORDER BY total DESC\n",
        "\"\"\"\n",
        "result = graph.run(request).to_data_frame()\n",
        "result.plot.barh(x='genre', y='total',figsize=(10,8))\n",
        "plt.show()"
      ],
      "metadata": {
        "id": "86GEFORzdeAb",
        "outputId": "c1315a22-9932-48b1-fc6d-b8a1bce5ac8e"
      },
      "execution_count": null,
      "outputs": [
        {
          "output_type": "display_data",
          "data": {
            "image/png": "[encoded data removed]",
            "text/plain": [
              "<Figure size 720x576 with 1 Axes>"
            ]
          },
          "metadata": {}
        }
      ],
      "id": "86GEFORzdeAb"
    },
    {
      "cell_type": "code",
      "source": [
        "result = {\"label\": [], \"count\": []}\n",
        "for label in graph.run(\"CALL db.labels()\").to_series():\n",
        "    query = f\"MATCH (:`{label}`) RETURN count(*) as count\"\n",
        "    count = graph.run(query).to_data_frame().iloc[0]['count']\n",
        "    result[\"label\"].append(label)\n",
        "    result[\"count\"].append(count)\n",
        "nodes_df = pd.DataFrame(data=result)\n",
        "nodes_df.sort_values(\"count\")"
      ],
      "metadata": {
        "id": "aaVqcRptdeAb",
        "outputId": "f298bdbb-6874-43ba-8614-ed448a246674"
      },
      "execution_count": null,
      "outputs": [
        {
          "execution_count": 13,
          "output_type": "execute_result",
          "data": {
            "text/html": [
              "<div>\n",
              "<style scoped>\n",
              "    .dataframe tbody tr th:only-of-type {\n",
              "        vertical-align: middle;\n",
              "    }\n",
              "\n",
              "    .dataframe tbody tr th {\n",
              "        vertical-align: top;\n",
              "    }\n",
              "\n",
              "    .dataframe thead th {\n",
              "        text-align: right;\n",
              "    }\n",
              "</style>\n",
              "<table border=\"1\" class=\"dataframe\">\n",
              "  <thead>\n",
              "    <tr style=\"text-align: right;\">\n",
              "      <th></th>\n",
              "      <th>label</th>\n",
              "      <th>count</th>\n",
              "    </tr>\n",
              "  </thead>\n",
              "  <tbody>\n",
              "    <tr>\n",
              "      <th>2</th>\n",
              "      <td>Genre</td>\n",
              "      <td>27</td>\n",
              "    </tr>\n",
              "    <tr>\n",
              "      <th>0</th>\n",
              "      <td>Movie</td>\n",
              "      <td>7162</td>\n",
              "    </tr>\n",
              "    <tr>\n",
              "      <th>1</th>\n",
              "      <td>Actor</td>\n",
              "      <td>22268</td>\n",
              "    </tr>\n",
              "  </tbody>\n",
              "</table>\n",
              "</div>"
            ],
            "text/plain": [
              "   label  count\n",
              "2  Genre     27\n",
              "0  Movie   7162\n",
              "1  Actor  22268"
            ]
          },
          "metadata": {}
        }
      ],
      "id": "aaVqcRptdeAb"
    },
    {
      "cell_type": "code",
      "source": [
        "nodes_df.plot(kind='bar', x='label', y='count', legend=None, title=\"Node Cardinalities\")\n",
        "plt.yscale(\"log\")\n",
        "plt.xticks(rotation=45)\n",
        "plt.tight_layout()\n",
        "plt.show()"
      ],
      "metadata": {
        "id": "-gVvts4zdeAc",
        "outputId": "20ec6729-3bd3-4f7b-df39-05ea7dac6ca6"
      },
      "execution_count": null,
      "outputs": [
        {
          "output_type": "display_data",
          "data": {
            "image/png": "[encoded data removed]",
            "text/plain": [
              "<Figure size 432x288 with 1 Axes>"
            ]
          },
          "metadata": {}
        }
      ],
      "id": "-gVvts4zdeAc"
    },
    {
      "cell_type": "code",
      "source": [
        "#Shortest Path analysis\n",
        "\n",
        "def who_be_present(I_AM,I_WANT_TO_MEET):\n",
        "    print(f\"I'm {I_AM}\")\n",
        "    print(f\"I want to meet {I_WANT_TO_MEET}\")\n",
        "    request=\"\"\"\n",
        "MATCH p = shortestPath((start:Actor)-[:WORK_WITH*]-(end:Actor))\n",
        "WHERE start.name = $pfrom AND end.name = $pto\n",
        "RETURN p\n",
        "\n",
        "    \"\"\"\n",
        "    cursor = graph.run(request,pfrom=I_AM,pto=I_WANT_TO_MEET)\n",
        "    while cursor.forward():\n",
        "        print(cursor['p'])\n",
        "    print('\\n')\n",
        "\n",
        "\n",
        "I_AM='Johnny Yong Bosch'\n",
        "I_WANT_TO_MEET='Jakob Eklund'\n",
        "who_be_present(I_AM,I_WANT_TO_MEET)\n",
        "\n",
        "I_AM='Matt Smith'\n",
        "I_WANT_TO_MEET='Johnny Yong Bosch'\n",
        "who_be_present(I_AM,I_WANT_TO_MEET)"
      ],
      "metadata": {
        "id": "7l8SkxpZdeAc",
        "outputId": "7807c0c2-c59d-4f34-8faf-1fa74366848d"
      },
      "execution_count": null,
      "outputs": [
        {
          "name": "stdout",
          "output_type": "stream",
          "text": "I'm Johnny Yong Bosch\n\nI want to meet Jakob Eklund\n\n\n\n\n\nI'm Matt Smith\n\nI want to meet Johnny Yong Bosch\n\n\n\n\n"
        }
      ],
      "id": "7l8SkxpZdeAc"
    },
    {
      "cell_type": "markdown",
      "source": [
        "## Splitting the dataset"
      ],
      "metadata": {
        "id": "HPA2AYiBdeAc"
      },
      "id": "HPA2AYiBdeAc"
    },
    {
      "cell_type": "markdown",
      "source": [
        "Based on the graph presented above, all the movies released before 2020 are taken as training dataset and the movies released in 2020 onwards are taken as testing dataset"
      ],
      "metadata": {
        "id": "JvFvTro9deAd"
      },
      "id": "JvFvTro9deAd"
    },
    {
      "cell_type": "code",
      "source": [
        "query = \"\"\"\n",
        "MATCH (m:Movie) WHERE (m.year) IS NOT NULL\n",
        "WITH m.year AS year, count(*) AS count\n",
        "ORDER BY year\n",
        "RETURN toString(year) AS year, count\n",
        "\"\"\"\n",
        "by_year = graph.run(query).to_data_frame()\n",
        "\n",
        "ax = by_year.plot(kind='bar', x='year', y='count', legend=None, figsize=(15,8))\n",
        "ax.xaxis.set_label_text(\"\")\n",
        "plt.tight_layout()\n",
        "plt.show()"
      ],
      "metadata": {
        "id": "3hyKIXnhdeAd",
        "outputId": "8b19bdb8-1c9e-4404-845b-748edba135ae"
      },
      "execution_count": null,
      "outputs": [
        {
          "output_type": "display_data",
          "data": {
            "image/png": "[encoded data removed]",
            "text/plain": [
              "<Figure size 1080x576 with 1 Axes>"
            ]
          },
          "metadata": {}
        }
      ],
      "id": "3hyKIXnhdeAd"
    },
    {
      "cell_type": "code",
      "source": [
        "#Creating work_with relationship\n",
        "query = \"\"\"\n",
        "MATCH (a:Actor)-[rel:ACTED_IN]->(movie)<-[:ACTED_IN]-(a2:Actor)\n",
        "WITH a, a2, movie\n",
        "ORDER BY a, movie.year\n",
        "WITH a, a2, collect(movie)[0].year AS year, count(*) AS collaborations\n",
        "MERGE (a)-[work_with:WORK_WITH {year: year}]-(a2)\n",
        "SET work_with.collaborations = collaborations;\n",
        "\"\"\"\n",
        "\n",
        "graph.run(query).stats()"
      ],
      "metadata": {
        "id": "E91QWKbvdeAd",
        "outputId": "891f3696-530a-4b4b-f77b-eccac7cee022"
      },
      "execution_count": null,
      "outputs": [
        {
          "execution_count": 19,
          "output_type": "execute_result",
          "data": {
            "text/plain": [
              "{'relationships_created': 53585, 'properties_set': 160755}"
            ]
          },
          "metadata": {}
        }
      ],
      "id": "E91QWKbvdeAd"
    },
    {
      "cell_type": "code",
      "source": [
        "#Creating work_with_early relationship (train dataset)\n",
        "query = \"\"\"\n",
        "MATCH (a:Actor)-[rel:ACTED_IN]->(movie)<-[:ACTED_IN]-(a2:Actor)\n",
        "WITH a, a2, movie\n",
        "ORDER BY a, movie.year\n",
        "WITH a, a2, collect(movie)[0].year AS year, count(*) AS collaborations\n",
        "WHERE year < 2020\n",
        "MERGE (a)-[work_with:WORK_WITH_EARLY {year: year}]-(a2)\n",
        "SET work_with.collaborations = collaborations;\n",
        "\"\"\"\n",
        "\n",
        "graph.run(query).stats()"
      ],
      "metadata": {
        "id": "KJCIG9uWdeAd",
        "outputId": "2e2a5a54-9930-481b-c516-f794ab3c3667"
      },
      "execution_count": null,
      "outputs": [
        {
          "execution_count": 20,
          "output_type": "execute_result",
          "data": {
            "text/plain": [
              "{'relationships_created': 35771, 'properties_set': 107313}"
            ]
          },
          "metadata": {}
        }
      ],
      "id": "KJCIG9uWdeAd"
    },
    {
      "cell_type": "code",
      "source": [
        "#Creating work_with_late relationship (test dataset)\n",
        "query = \"\"\"\n",
        "MATCH (a:Actor)-[rel:ACTED_IN]->(movie)<-[:ACTED_IN]-(a2:Actor)\n",
        "WITH a, a2, movie\n",
        "ORDER BY a, movie.year\n",
        "WITH a, a2, collect(movie)[0].year AS year, count(*) AS collaborations\n",
        "WHERE year >= 2020\n",
        "MERGE (a)-[work_with:WORK_WITH_LATE {year: year}]-(a2)\n",
        "SET work_with.collaborations = collaborations;\n",
        "\"\"\"\n",
        "\n",
        "graph.run(query).stats()"
      ],
      "metadata": {
        "id": "DcnvxyZsdeAe",
        "outputId": "18b0c3cd-0efe-4dda-fef0-7761c27e211f"
      },
      "execution_count": null,
      "outputs": [
        {
          "execution_count": 21,
          "output_type": "execute_result",
          "data": {
            "text/plain": [
              "{'relationships_created': 17814, 'properties_set': 53442}"
            ]
          },
          "metadata": {}
        }
      ],
      "id": "DcnvxyZsdeAe"
    },
    {
      "cell_type": "code",
      "source": [
        "result = {\"relType\": [], \"count\": []}\n",
        "for relationship_type in graph.run(\"CALL db.relationshipTypes()\").to_series():\n",
        "    query = f\"MATCH ()-[:`{relationship_type}`]->() RETURN count(*) as count\"\n",
        "    count = graph.run(query).to_data_frame().iloc[0]['count']\n",
        "    result[\"relType\"].append(relationship_type)\n",
        "    result[\"count\"].append(count)\n",
        "rels_df = pd.DataFrame(data=result)\n",
        "rels_df.sort_values(\"count\")"
      ],
      "metadata": {
        "id": "taws7emXdeAe",
        "outputId": "8be06513-584a-43b1-cdf5-45e75563c07f"
      },
      "execution_count": null,
      "outputs": [
        {
          "execution_count": 22,
          "output_type": "execute_result",
          "data": {
            "text/html": [
              "<div>\n",
              "<style scoped>\n",
              "    .dataframe tbody tr th:only-of-type {\n",
              "        vertical-align: middle;\n",
              "    }\n",
              "\n",
              "    .dataframe tbody tr th {\n",
              "        vertical-align: top;\n",
              "    }\n",
              "\n",
              "    .dataframe thead th {\n",
              "        text-align: right;\n",
              "    }\n",
              "</style>\n",
              "<table border=\"1\" class=\"dataframe\">\n",
              "  <thead>\n",
              "    <tr style=\"text-align: right;\">\n",
              "      <th></th>\n",
              "      <th>relType</th>\n",
              "      <th>count</th>\n",
              "    </tr>\n",
              "  </thead>\n",
              "  <tbody>\n",
              "    <tr>\n",
              "      <th>1</th>\n",
              "      <td>IN_GENRE</td>\n",
              "      <td>15721</td>\n",
              "    </tr>\n",
              "    <tr>\n",
              "      <th>4</th>\n",
              "      <td>WORK_WITH_LATE</td>\n",
              "      <td>17814</td>\n",
              "    </tr>\n",
              "    <tr>\n",
              "      <th>0</th>\n",
              "      <td>ACTED_IN</td>\n",
              "      <td>30806</td>\n",
              "    </tr>\n",
              "    <tr>\n",
              "      <th>3</th>\n",
              "      <td>WORK_WITH_EARLY</td>\n",
              "      <td>35771</td>\n",
              "    </tr>\n",
              "    <tr>\n",
              "      <th>2</th>\n",
              "      <td>WORK_WITH</td>\n",
              "      <td>53585</td>\n",
              "    </tr>\n",
              "  </tbody>\n",
              "</table>\n",
              "</div>"
            ],
            "text/plain": [
              "           relType  count\n",
              "1         IN_GENRE  15721\n",
              "4   WORK_WITH_LATE  17814\n",
              "0         ACTED_IN  30806\n",
              "3  WORK_WITH_EARLY  35771\n",
              "2        WORK_WITH  53585"
            ]
          },
          "metadata": {}
        }
      ],
      "id": "taws7emXdeAe"
    },
    {
      "cell_type": "code",
      "source": [
        "rels_df.plot(kind='bar', x='relType', y='count', legend=None, title=\"Relationship Cardinalities\")\n",
        "plt.xticks(rotation=45)\n",
        "plt.tight_layout()\n",
        "plt.show()"
      ],
      "metadata": {
        "id": "Y6DVzn7XdeAe",
        "outputId": "0d781ecf-d72e-436e-b99b-5df94c361e35"
      },
      "execution_count": null,
      "outputs": [
        {
          "output_type": "display_data",
          "data": {
            "image/png": "[encoded data removed]",
            "text/plain": [
              "<Figure size 432x288 with 1 Axes>"
            ]
          },
          "metadata": {}
        }
      ],
      "id": "Y6DVzn7XdeAe"
    },
    {
      "cell_type": "code",
      "source": [
        "query = \"\"\"\n",
        "MATCH ()-[:WORK_WITH_EARLY]->()\n",
        "RETURN count(*) AS count\n",
        "\"\"\"\n",
        "\n",
        "graph.run(query).to_data_frame()"
      ],
      "metadata": {
        "id": "yJMBh4F5deAf",
        "outputId": "ab698eb0-1eab-4231-d07f-36d0d007f374"
      },
      "execution_count": null,
      "outputs": [
        {
          "execution_count": 24,
          "output_type": "execute_result",
          "data": {
            "text/html": [
              "<div>\n",
              "<style scoped>\n",
              "    .dataframe tbody tr th:only-of-type {\n",
              "        vertical-align: middle;\n",
              "    }\n",
              "\n",
              "    .dataframe tbody tr th {\n",
              "        vertical-align: top;\n",
              "    }\n",
              "\n",
              "    .dataframe thead th {\n",
              "        text-align: right;\n",
              "    }\n",
              "</style>\n",
              "<table border=\"1\" class=\"dataframe\">\n",
              "  <thead>\n",
              "    <tr style=\"text-align: right;\">\n",
              "      <th></th>\n",
              "      <th>count</th>\n",
              "    </tr>\n",
              "  </thead>\n",
              "  <tbody>\n",
              "    <tr>\n",
              "      <th>0</th>\n",
              "      <td>35771</td>\n",
              "    </tr>\n",
              "  </tbody>\n",
              "</table>\n",
              "</div>"
            ],
            "text/plain": [
              "   count\n",
              "0  35771"
            ]
          },
          "metadata": {}
        }
      ],
      "id": "yJMBh4F5deAf"
    },
    {
      "cell_type": "code",
      "source": [
        "query = \"\"\"\n",
        "MATCH ()-[:WORK_WITH_LATE]->()\n",
        "RETURN count(*) AS count\n",
        "\"\"\"\n",
        "\n",
        "graph.run(query).to_data_frame()"
      ],
      "metadata": {
        "id": "HxxMyBEmdeAf",
        "outputId": "8119d9d9-7e16-4e7b-986b-d84a6564f3d3"
      },
      "execution_count": null,
      "outputs": [
        {
          "execution_count": 25,
          "output_type": "execute_result",
          "data": {
            "text/html": [
              "<div>\n",
              "<style scoped>\n",
              "    .dataframe tbody tr th:only-of-type {\n",
              "        vertical-align: middle;\n",
              "    }\n",
              "\n",
              "    .dataframe tbody tr th {\n",
              "        vertical-align: top;\n",
              "    }\n",
              "\n",
              "    .dataframe thead th {\n",
              "        text-align: right;\n",
              "    }\n",
              "</style>\n",
              "<table border=\"1\" class=\"dataframe\">\n",
              "  <thead>\n",
              "    <tr style=\"text-align: right;\">\n",
              "      <th></th>\n",
              "      <th>count</th>\n",
              "    </tr>\n",
              "  </thead>\n",
              "  <tbody>\n",
              "    <tr>\n",
              "      <th>0</th>\n",
              "      <td>17814</td>\n",
              "    </tr>\n",
              "  </tbody>\n",
              "</table>\n",
              "</div>"
            ],
            "text/plain": [
              "   count\n",
              "0  17814"
            ]
          },
          "metadata": {}
        }
      ],
      "id": "HxxMyBEmdeAf"
    },
    {
      "cell_type": "markdown",
      "source": [
        "## Down sampling the unconnected nodes"
      ],
      "metadata": {
        "id": "9DY5uFkwdeAf"
      },
      "id": "9DY5uFkwdeAf"
    },
    {
      "cell_type": "markdown",
      "source": [
        "Due to the number of no related nodes (or actors who haven't collaborated before) is higher than the number of nodes related (unbalanced data). We need to downsampling the unrelated nodes to the same number of connected nodes.\n",
        "\n",
        "* The actors who have collaborated before are represented with the number 1.\n",
        "\n",
        "* The actors who haven't collaborated before are represented with the number 0."
      ],
      "metadata": {
        "id": "WG-xkIFkdeAf"
      },
      "id": "WG-xkIFkdeAf"
    },
    {
      "cell_type": "code",
      "source": [
        "def down_sample(df):\n",
        "    copy = df.copy()\n",
        "    zero = Counter(copy.label.values)[0]\n",
        "    un = Counter(copy.label.values)[1]\n",
        "    n = zero - un\n",
        "    copy = copy.drop(copy[copy.label == 0].sample(n=n, random_state=1).index)\n",
        "    return copy.sample(frac=1)"
      ],
      "metadata": {
        "id": "cOLSCXpldeAg"
      },
      "execution_count": null,
      "outputs": [],
      "id": "cOLSCXpldeAg"
    },
    {
      "cell_type": "code",
      "source": [
        "#Correcting unbalanced issue in the training dataset\n",
        "\n",
        "train_existing_links = graph.run(\"\"\"\n",
        "MATCH (a:Actor)-[:WORK_WITH_EARLY]->(other:Actor)\n",
        "RETURN id(a) AS node1, id(other) AS node2, 1 AS label\n",
        "\"\"\").to_data_frame()\n",
        "\n",
        "train_missing_links = graph.run(\"\"\"\n",
        "MATCH (a:Actor)\n",
        "WHERE (a)-[:WORK_WITH_EARLY]-()\n",
        "MATCH (a)-[:WORK_WITH_EARLY*2..3]-(other)\n",
        "WHERE not((a)-[:WORK_WITH_EARLY]-(other))\n",
        "RETURN id(a) AS node1, id(other) AS node2, 0 AS label\n",
        "\"\"\").to_data_frame()\n",
        "train_missing_links = train_missing_links.drop_duplicates()"
      ],
      "metadata": {
        "id": "OGoLa5QTdeAg"
      },
      "execution_count": null,
      "outputs": [],
      "id": "OGoLa5QTdeAg"
    },
    {
      "cell_type": "code",
      "source": [
        "training_df = pd.concat([train_missing_links, train_existing_links], ignore_index=True)\n",
        "training_df['label'] = training_df['label'].astype('category')\n",
        "training_df = down_sample(training_df)"
      ],
      "metadata": {
        "id": "eZpFQ7L3deAn"
      },
      "execution_count": null,
      "outputs": [],
      "id": "eZpFQ7L3deAn"
    },
    {
      "cell_type": "code",
      "source": [
        "training_df.head()"
      ],
      "metadata": {
        "id": "5ab14ZawdeAn",
        "outputId": "3ed5d76f-2b05-41ca-d6f4-9d38178fbc5d"
      },
      "execution_count": null,
      "outputs": [
        {
          "execution_count": 30,
          "output_type": "execute_result",
          "data": {
            "text/html": [
              "<div>\n",
              "<style scoped>\n",
              "    .dataframe tbody tr th:only-of-type {\n",
              "        vertical-align: middle;\n",
              "    }\n",
              "\n",
              "    .dataframe tbody tr th {\n",
              "        vertical-align: top;\n",
              "    }\n",
              "\n",
              "    .dataframe thead th {\n",
              "        text-align: right;\n",
              "    }\n",
              "</style>\n",
              "<table border=\"1\" class=\"dataframe\">\n",
              "  <thead>\n",
              "    <tr style=\"text-align: right;\">\n",
              "      <th></th>\n",
              "      <th>node1</th>\n",
              "      <th>node2</th>\n",
              "      <th>label</th>\n",
              "    </tr>\n",
              "  </thead>\n",
              "  <tbody>\n",
              "    <tr>\n",
              "      <th>731957</th>\n",
              "      <td>11213</td>\n",
              "      <td>22326</td>\n",
              "      <td>1</td>\n",
              "    </tr>\n",
              "    <tr>\n",
              "      <th>725798</th>\n",
              "      <td>18640</td>\n",
              "      <td>18641</td>\n",
              "      <td>1</td>\n",
              "    </tr>\n",
              "    <tr>\n",
              "      <th>724794</th>\n",
              "      <td>17946</td>\n",
              "      <td>17947</td>\n",
              "      <td>1</td>\n",
              "    </tr>\n",
              "    <tr>\n",
              "      <th>621354</th>\n",
              "      <td>22834</td>\n",
              "      <td>12111</td>\n",
              "      <td>0</td>\n",
              "    </tr>\n",
              "    <tr>\n",
              "      <th>231092</th>\n",
              "      <td>9609</td>\n",
              "      <td>8250</td>\n",
              "      <td>0</td>\n",
              "    </tr>\n",
              "  </tbody>\n",
              "</table>\n",
              "</div>"
            ],
            "text/plain": [
              "        node1  node2 label\n",
              "731957  11213  22326     1\n",
              "725798  18640  18641     1\n",
              "724794  17946  17947     1\n",
              "621354  22834  12111     0\n",
              "231092   9609   8250     0"
            ]
          },
          "metadata": {}
        }
      ],
      "id": "5ab14ZawdeAn"
    },
    {
      "cell_type": "code",
      "source": [
        "#balanced training dataset\n",
        "training_df.groupby(\"label\").count()"
      ],
      "metadata": {
        "id": "Q6hysZ-RdeAo",
        "outputId": "c80bcc7c-b206-439e-a035-093bc2b0fa8c"
      },
      "execution_count": null,
      "outputs": [
        {
          "execution_count": 31,
          "output_type": "execute_result",
          "data": {
            "text/html": [
              "<div>\n",
              "<style scoped>\n",
              "    .dataframe tbody tr th:only-of-type {\n",
              "        vertical-align: middle;\n",
              "    }\n",
              "\n",
              "    .dataframe tbody tr th {\n",
              "        vertical-align: top;\n",
              "    }\n",
              "\n",
              "    .dataframe thead th {\n",
              "        text-align: right;\n",
              "    }\n",
              "</style>\n",
              "<table border=\"1\" class=\"dataframe\">\n",
              "  <thead>\n",
              "    <tr style=\"text-align: right;\">\n",
              "      <th></th>\n",
              "      <th>node1</th>\n",
              "      <th>node2</th>\n",
              "    </tr>\n",
              "    <tr>\n",
              "      <th>label</th>\n",
              "      <th></th>\n",
              "      <th></th>\n",
              "    </tr>\n",
              "  </thead>\n",
              "  <tbody>\n",
              "    <tr>\n",
              "      <th>0</th>\n",
              "      <td>35771</td>\n",
              "      <td>35771</td>\n",
              "    </tr>\n",
              "    <tr>\n",
              "      <th>1</th>\n",
              "      <td>35771</td>\n",
              "      <td>35771</td>\n",
              "    </tr>\n",
              "  </tbody>\n",
              "</table>\n",
              "</div>"
            ],
            "text/plain": [
              "       node1  node2\n",
              "label              \n",
              "0      35771  35771\n",
              "1      35771  35771"
            ]
          },
          "metadata": {}
        }
      ],
      "id": "Q6hysZ-RdeAo"
    },
    {
      "cell_type": "code",
      "source": [
        "#Correcting unbalanced issue in the testing dataset\n",
        "\n",
        "test_existing_links = graph.run(\"\"\"\n",
        "MATCH (a:Actor)-[:WORK_WITH_LATE]->(other:Actor)\n",
        "RETURN id(a) AS node1, id(other) AS node2, 1 AS label\n",
        "\"\"\").to_data_frame()\n",
        "\n",
        "test_missing_links = graph.run(\"\"\"\n",
        "MATCH (a:Actor)\n",
        "WHERE (a)-[:WORK_WITH_LATE]-()\n",
        "MATCH (a)-[:WORK_WITH_LATE*2..3]-(other)\n",
        "WHERE not((a)-[:WORK_WITH_LATE]-(other))\n",
        "RETURN id(a) AS node1, id(other) AS node2, 0 AS label\n",
        "\"\"\").to_data_frame()\n",
        "test_missing_links = test_missing_links.drop_duplicates()"
      ],
      "metadata": {
        "id": "U3GnZnzqdeAo"
      },
      "execution_count": null,
      "outputs": [],
      "id": "U3GnZnzqdeAo"
    },
    {
      "cell_type": "code",
      "source": [
        "test_df = pd.concat([test_missing_links, test_existing_links], ignore_index=True)\n",
        "test_df['label'] = test_df['label'].astype('category')\n",
        "test_df = down_sample(test_df)"
      ],
      "metadata": {
        "id": "z-hnOrsWdeAo"
      },
      "execution_count": null,
      "outputs": [],
      "id": "z-hnOrsWdeAo"
    },
    {
      "cell_type": "code",
      "source": [
        "test_df.head()"
      ],
      "metadata": {
        "id": "j1wMR1AFdeAo",
        "outputId": "78fb1a60-9dfd-45e7-ccf3-15c836fda137"
      },
      "execution_count": null,
      "outputs": [
        {
          "execution_count": 34,
          "output_type": "execute_result",
          "data": {
            "text/html": [
              "<div>\n",
              "<style scoped>\n",
              "    .dataframe tbody tr th:only-of-type {\n",
              "        vertical-align: middle;\n",
              "    }\n",
              "\n",
              "    .dataframe tbody tr th {\n",
              "        vertical-align: top;\n",
              "    }\n",
              "\n",
              "    .dataframe thead th {\n",
              "        text-align: right;\n",
              "    }\n",
              "</style>\n",
              "<table border=\"1\" class=\"dataframe\">\n",
              "  <thead>\n",
              "    <tr style=\"text-align: right;\">\n",
              "      <th></th>\n",
              "      <th>node1</th>\n",
              "      <th>node2</th>\n",
              "      <th>label</th>\n",
              "    </tr>\n",
              "  </thead>\n",
              "  <tbody>\n",
              "    <tr>\n",
              "      <th>54088</th>\n",
              "      <td>13035</td>\n",
              "      <td>7572</td>\n",
              "      <td>0</td>\n",
              "    </tr>\n",
              "    <tr>\n",
              "      <th>87433</th>\n",
              "      <td>18506</td>\n",
              "      <td>16029</td>\n",
              "      <td>0</td>\n",
              "    </tr>\n",
              "    <tr>\n",
              "      <th>117418</th>\n",
              "      <td>12605</td>\n",
              "      <td>12606</td>\n",
              "      <td>1</td>\n",
              "    </tr>\n",
              "    <tr>\n",
              "      <th>2923</th>\n",
              "      <td>7347</td>\n",
              "      <td>9557</td>\n",
              "      <td>0</td>\n",
              "    </tr>\n",
              "    <tr>\n",
              "      <th>128705</th>\n",
              "      <td>27241</td>\n",
              "      <td>27244</td>\n",
              "      <td>1</td>\n",
              "    </tr>\n",
              "  </tbody>\n",
              "</table>\n",
              "</div>"
            ],
            "text/plain": [
              "        node1  node2 label\n",
              "54088   13035   7572     0\n",
              "87433   18506  16029     0\n",
              "117418  12605  12606     1\n",
              "2923     7347   9557     0\n",
              "128705  27241  27244     1"
            ]
          },
          "metadata": {}
        }
      ],
      "id": "j1wMR1AFdeAo"
    },
    {
      "cell_type": "code",
      "source": [
        "#balanced testing dataset\n",
        "test_df.groupby(\"label\").count()"
      ],
      "metadata": {
        "id": "ZFjYC6X8deAp",
        "outputId": "8a996320-a675-4007-e8f9-d0673b3b44ab"
      },
      "execution_count": null,
      "outputs": [
        {
          "execution_count": 35,
          "output_type": "execute_result",
          "data": {
            "text/html": [
              "<div>\n",
              "<style scoped>\n",
              "    .dataframe tbody tr th:only-of-type {\n",
              "        vertical-align: middle;\n",
              "    }\n",
              "\n",
              "    .dataframe tbody tr th {\n",
              "        vertical-align: top;\n",
              "    }\n",
              "\n",
              "    .dataframe thead th {\n",
              "        text-align: right;\n",
              "    }\n",
              "</style>\n",
              "<table border=\"1\" class=\"dataframe\">\n",
              "  <thead>\n",
              "    <tr style=\"text-align: right;\">\n",
              "      <th></th>\n",
              "      <th>node1</th>\n",
              "      <th>node2</th>\n",
              "    </tr>\n",
              "    <tr>\n",
              "      <th>label</th>\n",
              "      <th></th>\n",
              "      <th></th>\n",
              "    </tr>\n",
              "  </thead>\n",
              "  <tbody>\n",
              "    <tr>\n",
              "      <th>0</th>\n",
              "      <td>17814</td>\n",
              "      <td>17814</td>\n",
              "    </tr>\n",
              "    <tr>\n",
              "      <th>1</th>\n",
              "      <td>17814</td>\n",
              "      <td>17814</td>\n",
              "    </tr>\n",
              "  </tbody>\n",
              "</table>\n",
              "</div>"
            ],
            "text/plain": [
              "       node1  node2\n",
              "label              \n",
              "0      17814  17814\n",
              "1      17814  17814"
            ]
          },
          "metadata": {}
        }
      ],
      "id": "ZFjYC6X8deAp"
    },
    {
      "cell_type": "markdown",
      "source": [
        "## Choosing a machine learning algorithm"
      ],
      "metadata": {
        "id": "dlqdnOpvdeAp"
      },
      "id": "dlqdnOpvdeAp"
    },
    {
      "cell_type": "code",
      "source": [
        "#Random Forest Classifier used as model\n",
        "classifier = RandomForestClassifier(n_estimators=30, max_depth=10, random_state=0)"
      ],
      "metadata": {
        "id": "YViIqow_deAp"
      },
      "execution_count": null,
      "outputs": [],
      "id": "YViIqow_deAp"
    },
    {
      "cell_type": "markdown",
      "source": [
        "### Calculating grahp parameters (cn, pa, tn)"
      ],
      "metadata": {
        "id": "h-p2H2YYdeAp"
      },
      "id": "h-p2H2YYdeAp"
    },
    {
      "cell_type": "code",
      "source": [
        "def apply_graphy_features(data, rel_type):\n",
        "    query = \"\"\"\n",
        "    UNWIND $pairs AS pair\n",
        "    MATCH (p1) WHERE id(p1) = pair.node1\n",
        "    MATCH (p2) WHERE id(p2) = pair.node2\n",
        "    RETURN pair.node1 AS node1,\n",
        "           pair.node2 AS node2,\n",
        "           gds.alpha.linkprediction.commonNeighbors(\n",
        "               p1, p2, {relationshipQuery: $relType}) AS cn,\n",
        "           gds.alpha.linkprediction.preferentialAttachment(\n",
        "               p1, p2, {relationshipQuery: $relType}) AS pa,\n",
        "           gds.alpha.linkprediction.totalNeighbors(\n",
        "               p1, p2, {relationshipQuery: $relType}) AS tn\n",
        "    \"\"\"\n",
        "    pairs = [{\"node1\": node1, \"node2\": node2}  for node1,node2 in data[[\"node1\", \"node2\"]].values.tolist()]\n",
        "    features = graph.run(query, {\"pairs\": pairs, \"relType\": rel_type}).to_data_frame()\n",
        "    return pd.merge(data, features, on = [\"node1\", \"node2\"])"
      ],
      "metadata": {
        "id": "hbdpTvIcdeAq"
      },
      "execution_count": null,
      "outputs": [],
      "id": "hbdpTvIcdeAq"
    },
    {
      "cell_type": "code",
      "source": [
        "training_df = apply_graphy_features(training_df, \"WORK_WITH_EARLY\")"
      ],
      "metadata": {
        "id": "3TYq7eXOdeAq"
      },
      "execution_count": null,
      "outputs": [],
      "id": "3TYq7eXOdeAq"
    },
    {
      "cell_type": "code",
      "source": [
        "training_df.head()"
      ],
      "metadata": {
        "id": "OuvHLg98deAq",
        "outputId": "2875652b-b657-46b2-8e2a-121487bffa0a"
      },
      "execution_count": null,
      "outputs": [
        {
          "execution_count": 39,
          "output_type": "execute_result",
          "data": {
            "text/html": [
              "<div>\n",
              "<style scoped>\n",
              "    .dataframe tbody tr th:only-of-type {\n",
              "        vertical-align: middle;\n",
              "    }\n",
              "\n",
              "    .dataframe tbody tr th {\n",
              "        vertical-align: top;\n",
              "    }\n",
              "\n",
              "    .dataframe thead th {\n",
              "        text-align: right;\n",
              "    }\n",
              "</style>\n",
              "<table border=\"1\" class=\"dataframe\">\n",
              "  <thead>\n",
              "    <tr style=\"text-align: right;\">\n",
              "      <th></th>\n",
              "      <th>node1</th>\n",
              "      <th>node2</th>\n",
              "      <th>label</th>\n",
              "      <th>cn</th>\n",
              "      <th>pa</th>\n",
              "      <th>tn</th>\n",
              "    </tr>\n",
              "  </thead>\n",
              "  <tbody>\n",
              "    <tr>\n",
              "      <th>0</th>\n",
              "      <td>11213</td>\n",
              "      <td>22326</td>\n",
              "      <td>1</td>\n",
              "      <td>2.000</td>\n",
              "      <td>84.000</td>\n",
              "      <td>18.000</td>\n",
              "    </tr>\n",
              "    <tr>\n",
              "      <th>1</th>\n",
              "      <td>18640</td>\n",
              "      <td>18641</td>\n",
              "      <td>1</td>\n",
              "      <td>2.000</td>\n",
              "      <td>9.000</td>\n",
              "      <td>4.000</td>\n",
              "    </tr>\n",
              "    <tr>\n",
              "      <th>2</th>\n",
              "      <td>17946</td>\n",
              "      <td>17947</td>\n",
              "      <td>1</td>\n",
              "      <td>3.000</td>\n",
              "      <td>16.000</td>\n",
              "      <td>5.000</td>\n",
              "    </tr>\n",
              "    <tr>\n",
              "      <th>3</th>\n",
              "      <td>22834</td>\n",
              "      <td>12111</td>\n",
              "      <td>0</td>\n",
              "      <td>0.000</td>\n",
              "      <td>16.000</td>\n",
              "      <td>8.000</td>\n",
              "    </tr>\n",
              "    <tr>\n",
              "      <th>4</th>\n",
              "      <td>9609</td>\n",
              "      <td>8250</td>\n",
              "      <td>0</td>\n",
              "      <td>1.000</td>\n",
              "      <td>114.000</td>\n",
              "      <td>40.000</td>\n",
              "    </tr>\n",
              "  </tbody>\n",
              "</table>\n",
              "</div>"
            ],
            "text/plain": [
              "   node1  node2 label    cn      pa     tn\n",
              "0  11213  22326     1 2.000  84.000 18.000\n",
              "1  18640  18641     1 2.000   9.000  4.000\n",
              "2  17946  17947     1 3.000  16.000  5.000\n",
              "3  22834  12111     0 0.000  16.000  8.000\n",
              "4   9609   8250     0 1.000 114.000 40.000"
            ]
          },
          "metadata": {}
        }
      ],
      "id": "OuvHLg98deAq"
    },
    {
      "cell_type": "code",
      "source": [
        "test_df = apply_graphy_features(test_df, \"WORK_WITH_LATE\")"
      ],
      "metadata": {
        "id": "SQ2c8wtYdeAq"
      },
      "execution_count": null,
      "outputs": [],
      "id": "SQ2c8wtYdeAq"
    },
    {
      "cell_type": "code",
      "source": [
        "test_df.head()"
      ],
      "metadata": {
        "id": "Wjg0KwL5deAr",
        "outputId": "d812d66e-90e7-4a92-f635-f842faa3de06"
      },
      "execution_count": null,
      "outputs": [
        {
          "execution_count": 41,
          "output_type": "execute_result",
          "data": {
            "text/html": [
              "<div>\n",
              "<style scoped>\n",
              "    .dataframe tbody tr th:only-of-type {\n",
              "        vertical-align: middle;\n",
              "    }\n",
              "\n",
              "    .dataframe tbody tr th {\n",
              "        vertical-align: top;\n",
              "    }\n",
              "\n",
              "    .dataframe thead th {\n",
              "        text-align: right;\n",
              "    }\n",
              "</style>\n",
              "<table border=\"1\" class=\"dataframe\">\n",
              "  <thead>\n",
              "    <tr style=\"text-align: right;\">\n",
              "      <th></th>\n",
              "      <th>node1</th>\n",
              "      <th>node2</th>\n",
              "      <th>label</th>\n",
              "      <th>cn</th>\n",
              "      <th>pa</th>\n",
              "      <th>tn</th>\n",
              "    </tr>\n",
              "  </thead>\n",
              "  <tbody>\n",
              "    <tr>\n",
              "      <th>0</th>\n",
              "      <td>13035</td>\n",
              "      <td>7572</td>\n",
              "      <td>0</td>\n",
              "      <td>1.000</td>\n",
              "      <td>56.000</td>\n",
              "      <td>17.000</td>\n",
              "    </tr>\n",
              "    <tr>\n",
              "      <th>1</th>\n",
              "      <td>18506</td>\n",
              "      <td>16029</td>\n",
              "      <td>0</td>\n",
              "      <td>1.000</td>\n",
              "      <td>28.000</td>\n",
              "      <td>10.000</td>\n",
              "    </tr>\n",
              "    <tr>\n",
              "      <th>2</th>\n",
              "      <td>12605</td>\n",
              "      <td>12606</td>\n",
              "      <td>1</td>\n",
              "      <td>2.000</td>\n",
              "      <td>21.000</td>\n",
              "      <td>8.000</td>\n",
              "    </tr>\n",
              "    <tr>\n",
              "      <th>3</th>\n",
              "      <td>7347</td>\n",
              "      <td>9557</td>\n",
              "      <td>0</td>\n",
              "      <td>0.000</td>\n",
              "      <td>24.000</td>\n",
              "      <td>10.000</td>\n",
              "    </tr>\n",
              "    <tr>\n",
              "      <th>4</th>\n",
              "      <td>27241</td>\n",
              "      <td>27244</td>\n",
              "      <td>1</td>\n",
              "      <td>3.000</td>\n",
              "      <td>16.000</td>\n",
              "      <td>5.000</td>\n",
              "    </tr>\n",
              "  </tbody>\n",
              "</table>\n",
              "</div>"
            ],
            "text/plain": [
              "   node1  node2 label    cn     pa     tn\n",
              "0  13035   7572     0 1.000 56.000 17.000\n",
              "1  18506  16029     0 1.000 28.000 10.000\n",
              "2  12605  12606     1 2.000 21.000  8.000\n",
              "3   7347   9557     0 0.000 24.000 10.000\n",
              "4  27241  27244     1 3.000 16.000  5.000"
            ]
          },
          "metadata": {}
        }
      ],
      "id": "Wjg0KwL5deAr"
    },
    {
      "cell_type": "code",
      "source": [
        "plt.style.use('fivethirtyeight')\n",
        "fig, axs = plt.subplots(1, 2, figsize=(18, 7), sharey=True)\n",
        "charts = [(1, \"have worked together\"), (0, \"haven't worked together\")]\n",
        "for index, chart in enumerate(charts):\n",
        " label, title = chart\n",
        " filtered = training_df[training_df[\"label\"] == label]\n",
        " common_actors = filtered[\"cn\"]\n",
        " histogram = common_actors.value_counts().sort_index()\n",
        " histogram /= float(histogram.sum())\n",
        " histogram.plot(kind=\"bar\", x='Common Actors', color=\"darkblue\",\n",
        " ax=axs[index], title=f\"Actors who {title} (label={label})\")\n",
        " axs[index].xaxis.set_label_text(\"Common Actors\")\n",
        "plt.tight_layout()\n",
        "plt.show()"
      ],
      "metadata": {
        "id": "5RP-4A9BdeAr",
        "outputId": "c5f2c88f-a2f2-4d0b-9b1c-4d3f017b9b35"
      },
      "execution_count": null,
      "outputs": [
        {
          "output_type": "display_data",
          "data": {
            "image/png": "[encoded data removed]",
            "text/plain": [
              "<Figure size 1296x504 with 2 Axes>"
            ]
          },
          "metadata": {}
        }
      ],
      "id": "5RP-4A9BdeAr"
    },
    {
      "cell_type": "markdown",
      "source": [
        "### Model 1: using just 'cn' as feature"
      ],
      "metadata": {
        "id": "If8cz5YUdeAr"
      },
      "id": "If8cz5YUdeAr"
    },
    {
      "cell_type": "code",
      "source": [
        "columns = [\"cn\"]\n",
        "\n",
        "X = training_df[columns]\n",
        "y = training_df[\"label\"]\n",
        "classifier.fit(X, y)\n",
        "\n",
        "predictions = classifier.predict(test_df[columns])\n",
        "y_test = test_df[\"label\"]\n",
        "\n",
        "display(\"Accuracy\", accuracy_score(y_test, predictions))\n",
        "display(\"Precision\", precision_score(y_test, predictions))\n",
        "display(\"Recall\", recall_score(y_test, predictions))\n",
        "display(\"AUC\",roc_auc_score(y_test, predictions))\n",
        "\n",
        "sorted(list(zip(columns, classifier.feature_importances_)), key = lambda x: x[1]*-1)"
      ],
      "metadata": {
        "id": "qt5bawMJdeAs",
        "outputId": "a9d9a158-e47c-4373-c2dc-12200600ecf9"
      },
      "execution_count": null,
      "outputs": [
        {
          "output_type": "display_data",
          "data": {
            "text/plain": [
              "'Accuracy'"
            ]
          },
          "metadata": {}
        },
        {
          "output_type": "display_data",
          "data": {
            "text/plain": [
              "0.9739250028067812"
            ]
          },
          "metadata": {}
        },
        {
          "output_type": "display_data",
          "data": {
            "text/plain": [
              "'Precision'"
            ]
          },
          "metadata": {}
        },
        {
          "output_type": "display_data",
          "data": {
            "text/plain": [
              "0.9848389134554643"
            ]
          },
          "metadata": {}
        },
        {
          "output_type": "display_data",
          "data": {
            "text/plain": [
              "'Recall'"
            ]
          },
          "metadata": {}
        },
        {
          "output_type": "display_data",
          "data": {
            "text/plain": [
              "0.962669810261592"
            ]
          },
          "metadata": {}
        },
        {
          "output_type": "display_data",
          "data": {
            "text/plain": [
              "'AUC'"
            ]
          },
          "metadata": {}
        },
        {
          "output_type": "display_data",
          "data": {
            "text/plain": [
              "0.9739250028067811"
            ]
          },
          "metadata": {}
        },
        {
          "execution_count": 43,
          "output_type": "execute_result",
          "data": {
            "text/plain": [
              "[('cn', 1.0)]"
            ]
          },
          "metadata": {}
        }
      ],
      "id": "qt5bawMJdeAs"
    },
    {
      "cell_type": "code",
      "source": [
        "#Model results\n",
        "results = pd.DataFrame([accuracy_score(y_test, predictions),precision_score(y_test, predictions),recall_score(y_test, predictions),roc_auc_score(y_test, predictions)], index=[\"Accuracy\", \"Precision\", \"Recall\", \"AUC\"], columns=[\"Model 1\"])\n",
        "results"
      ],
      "metadata": {
        "id": "ad04KutCdeAs",
        "outputId": "a296099e-0394-41d6-b87d-2096369788c4"
      },
      "execution_count": null,
      "outputs": [
        {
          "execution_count": 44,
          "output_type": "execute_result",
          "data": {
            "text/html": [
              "<div>\n",
              "<style scoped>\n",
              "    .dataframe tbody tr th:only-of-type {\n",
              "        vertical-align: middle;\n",
              "    }\n",
              "\n",
              "    .dataframe tbody tr th {\n",
              "        vertical-align: top;\n",
              "    }\n",
              "\n",
              "    .dataframe thead th {\n",
              "        text-align: right;\n",
              "    }\n",
              "</style>\n",
              "<table border=\"1\" class=\"dataframe\">\n",
              "  <thead>\n",
              "    <tr style=\"text-align: right;\">\n",
              "      <th></th>\n",
              "      <th>Model 1</th>\n",
              "    </tr>\n",
              "  </thead>\n",
              "  <tbody>\n",
              "    <tr>\n",
              "      <th>Accuracy</th>\n",
              "      <td>0.974</td>\n",
              "    </tr>\n",
              "    <tr>\n",
              "      <th>Precision</th>\n",
              "      <td>0.985</td>\n",
              "    </tr>\n",
              "    <tr>\n",
              "      <th>Recall</th>\n",
              "      <td>0.963</td>\n",
              "    </tr>\n",
              "    <tr>\n",
              "      <th>AUC</th>\n",
              "      <td>0.974</td>\n",
              "    </tr>\n",
              "  </tbody>\n",
              "</table>\n",
              "</div>"
            ],
            "text/plain": [
              "           Model 1\n",
              "Accuracy     0.974\n",
              "Precision    0.985\n",
              "Recall       0.963\n",
              "AUC          0.974"
            ]
          },
          "metadata": {}
        }
      ],
      "id": "ad04KutCdeAs"
    },
    {
      "cell_type": "markdown",
      "source": [
        "### Model 2: using 'cn', 'pa', and 'tn' as features"
      ],
      "metadata": {
        "id": "ltcnXLYUdeAs"
      },
      "id": "ltcnXLYUdeAs"
    },
    {
      "cell_type": "code",
      "source": [
        "columns = [\"cn\", \"pa\", \"tn\"]\n",
        "\n",
        "X = training_df[columns]\n",
        "y = training_df[\"label\"]\n",
        "classifier.fit(X, y)\n",
        "\n",
        "predictions = classifier.predict(test_df[columns])\n",
        "y_test = test_df[\"label\"]\n",
        "\n",
        "display(\"Accuracy\", accuracy_score(y_test, predictions))\n",
        "display(\"Precision\", precision_score(y_test, predictions))\n",
        "display(\"Recall\", recall_score(y_test, predictions))\n",
        "display(\"AUC\",roc_auc_score(y_test, predictions))\n",
        "\n",
        "sorted(list(zip(columns, classifier.feature_importances_)), key = lambda x: x[1]*-1)"
      ],
      "metadata": {
        "id": "hmRENAC_deAs",
        "outputId": "516129ab-7570-4922-e509-4413d82f5efd"
      },
      "execution_count": null,
      "outputs": [
        {
          "output_type": "display_data",
          "data": {
            "text/plain": [
              "'Accuracy'"
            ]
          },
          "metadata": {}
        },
        {
          "output_type": "display_data",
          "data": {
            "text/plain": [
              "0.9797069720444594"
            ]
          },
          "metadata": {}
        },
        {
          "output_type": "display_data",
          "data": {
            "text/plain": [
              "'Precision'"
            ]
          },
          "metadata": {}
        },
        {
          "output_type": "display_data",
          "data": {
            "text/plain": [
              "0.9844662395827428"
            ]
          },
          "metadata": {}
        },
        {
          "output_type": "display_data",
          "data": {
            "text/plain": [
              "'Recall'"
            ]
          },
          "metadata": {}
        },
        {
          "output_type": "display_data",
          "data": {
            "text/plain": [
              "0.9747951049736162"
            ]
          },
          "metadata": {}
        },
        {
          "output_type": "display_data",
          "data": {
            "text/plain": [
              "'AUC'"
            ]
          },
          "metadata": {}
        },
        {
          "output_type": "display_data",
          "data": {
            "text/plain": [
              "0.9797069720444594"
            ]
          },
          "metadata": {}
        },
        {
          "execution_count": 45,
          "output_type": "execute_result",
          "data": {
            "text/plain": [
              "[('cn', 0.7313016453208196),\n",
              " ('tn', 0.19694197130911453),\n",
              " ('pa', 0.0717563833700658)]"
            ]
          },
          "metadata": {}
        }
      ],
      "id": "hmRENAC_deAs"
    },
    {
      "cell_type": "code",
      "source": [
        "#Results\n",
        "m2l = [accuracy_score(y_test, predictions),precision_score(y_test, predictions),recall_score(y_test, predictions),roc_auc_score(y_test, predictions)]\n",
        "results['Model 2'] = m2l\n",
        "results"
      ],
      "metadata": {
        "id": "g2KFJ-GpdeAt",
        "outputId": "969c0425-c8d8-408f-f94b-94b8a75ac27a"
      },
      "execution_count": null,
      "outputs": [
        {
          "execution_count": 46,
          "output_type": "execute_result",
          "data": {
            "text/html": [
              "<div>\n",
              "<style scoped>\n",
              "    .dataframe tbody tr th:only-of-type {\n",
              "        vertical-align: middle;\n",
              "    }\n",
              "\n",
              "    .dataframe tbody tr th {\n",
              "        vertical-align: top;\n",
              "    }\n",
              "\n",
              "    .dataframe thead th {\n",
              "        text-align: right;\n",
              "    }\n",
              "</style>\n",
              "<table border=\"1\" class=\"dataframe\">\n",
              "  <thead>\n",
              "    <tr style=\"text-align: right;\">\n",
              "      <th></th>\n",
              "      <th>Model 1</th>\n",
              "      <th>Model 2</th>\n",
              "    </tr>\n",
              "  </thead>\n",
              "  <tbody>\n",
              "    <tr>\n",
              "      <th>Accuracy</th>\n",
              "      <td>0.974</td>\n",
              "      <td>0.980</td>\n",
              "    </tr>\n",
              "    <tr>\n",
              "      <th>Precision</th>\n",
              "      <td>0.985</td>\n",
              "      <td>0.984</td>\n",
              "    </tr>\n",
              "    <tr>\n",
              "      <th>Recall</th>\n",
              "      <td>0.963</td>\n",
              "      <td>0.975</td>\n",
              "    </tr>\n",
              "    <tr>\n",
              "      <th>AUC</th>\n",
              "      <td>0.974</td>\n",
              "      <td>0.980</td>\n",
              "    </tr>\n",
              "  </tbody>\n",
              "</table>\n",
              "</div>"
            ],
            "text/plain": [
              "           Model 1  Model 2\n",
              "Accuracy     0.974    0.980\n",
              "Precision    0.985    0.984\n",
              "Recall       0.963    0.975\n",
              "AUC          0.974    0.980"
            ]
          },
          "metadata": {}
        }
      ],
      "id": "g2KFJ-GpdeAt"
    },
    {
      "cell_type": "markdown",
      "source": [
        "### Calculating triangle counts and cluster coefficient"
      ],
      "metadata": {
        "id": "KcCA706ddeAt"
      },
      "id": "KcCA706ddeAt"
    },
    {
      "cell_type": "code",
      "source": [
        "graph.run(\"\"\"\n",
        "CALL gds.graph.project(\n",
        "  'Actor',\n",
        "  'Actor',\n",
        "  {WORK_WITH_EARLY: {orientation: 'UNDIRECTED'}}\n",
        "\n",
        ")\n",
        "\"\"\"\n",
        ").to_data_frame()"
      ],
      "metadata": {
        "id": "T-AGq-RPdeAt",
        "outputId": "82035a0a-74f4-4e57-cc0b-93d22ac62714"
      },
      "execution_count": null,
      "outputs": [
        {
          "execution_count": 47,
          "output_type": "execute_result",
          "data": {
            "text/html": [
              "<div>\n",
              "<style scoped>\n",
              "    .dataframe tbody tr th:only-of-type {\n",
              "        vertical-align: middle;\n",
              "    }\n",
              "\n",
              "    .dataframe tbody tr th {\n",
              "        vertical-align: top;\n",
              "    }\n",
              "\n",
              "    .dataframe thead th {\n",
              "        text-align: right;\n",
              "    }\n",
              "</style>\n",
              "<table border=\"1\" class=\"dataframe\">\n",
              "  <thead>\n",
              "    <tr style=\"text-align: right;\">\n",
              "      <th></th>\n",
              "      <th>nodeProjection</th>\n",
              "      <th>relationshipProjection</th>\n",
              "      <th>graphName</th>\n",
              "      <th>nodeCount</th>\n",
              "      <th>relationshipCount</th>\n",
              "      <th>projectMillis</th>\n",
              "    </tr>\n",
              "  </thead>\n",
              "  <tbody>\n",
              "    <tr>\n",
              "      <th>0</th>\n",
              "      <td>{'Actor': {'label': 'Actor', 'properties': {}}}</td>\n",
              "      <td>{'WORK_WITH_EARLY': {'orientation': 'UNDIRECTE...</td>\n",
              "      <td>Actor</td>\n",
              "      <td>22268</td>\n",
              "      <td>71542</td>\n",
              "      <td>2789</td>\n",
              "    </tr>\n",
              "  </tbody>\n",
              "</table>\n",
              "</div>"
            ],
            "text/plain": [
              "                                    nodeProjection  \\\n",
              "0  {'Actor': {'label': 'Actor', 'properties': {}}}   \n",
              "\n",
              "                              relationshipProjection graphName  nodeCount  \\\n",
              "0  {'WORK_WITH_EARLY': {'orientation': 'UNDIRECTE...     Actor      22268   \n",
              "\n",
              "   relationshipCount  projectMillis  \n",
              "0              71542           2789  "
            ]
          },
          "metadata": {}
        }
      ],
      "id": "T-AGq-RPdeAt"
    },
    {
      "cell_type": "code",
      "source": [
        "graph.run(\"\"\"\n",
        "CALL gds.triangleCount.write('Actor',{\n",
        " writeProperty: 'trianglesTrain'\n",
        "});\n",
        "\n",
        "\"\"\").to_data_frame()"
      ],
      "metadata": {
        "id": "KxvyOFDodeAu",
        "outputId": "a61c0b2a-9cb8-4d7b-d354-7823a8e773c9"
      },
      "execution_count": null,
      "outputs": [
        {
          "execution_count": 48,
          "output_type": "execute_result",
          "data": {
            "text/html": [
              "<div>\n",
              "<style scoped>\n",
              "    .dataframe tbody tr th:only-of-type {\n",
              "        vertical-align: middle;\n",
              "    }\n",
              "\n",
              "    .dataframe tbody tr th {\n",
              "        vertical-align: top;\n",
              "    }\n",
              "\n",
              "    .dataframe thead th {\n",
              "        text-align: right;\n",
              "    }\n",
              "</style>\n",
              "<table border=\"1\" class=\"dataframe\">\n",
              "  <thead>\n",
              "    <tr style=\"text-align: right;\">\n",
              "      <th></th>\n",
              "      <th>writeMillis</th>\n",
              "      <th>nodePropertiesWritten</th>\n",
              "      <th>globalTriangleCount</th>\n",
              "      <th>nodeCount</th>\n",
              "      <th>postProcessingMillis</th>\n",
              "      <th>preProcessingMillis</th>\n",
              "      <th>computeMillis</th>\n",
              "      <th>configuration</th>\n",
              "    </tr>\n",
              "  </thead>\n",
              "  <tbody>\n",
              "    <tr>\n",
              "      <th>0</th>\n",
              "      <td>112</td>\n",
              "      <td>22268</td>\n",
              "      <td>35140</td>\n",
              "      <td>22268</td>\n",
              "      <td>0</td>\n",
              "      <td>1</td>\n",
              "      <td>44</td>\n",
              "      <td>{'jobId': '6b000609-ea18-4f5a-a7ae-bc92cd3b268...</td>\n",
              "    </tr>\n",
              "  </tbody>\n",
              "</table>\n",
              "</div>"
            ],
            "text/plain": [
              "   writeMillis  nodePropertiesWritten  globalTriangleCount  nodeCount  \\\n",
              "0          112                  22268                35140      22268   \n",
              "\n",
              "   postProcessingMillis  preProcessingMillis  computeMillis  \\\n",
              "0                     0                    1             44   \n",
              "\n",
              "                                       configuration  \n",
              "0  {'jobId': '6b000609-ea18-4f5a-a7ae-bc92cd3b268...  "
            ]
          },
          "metadata": {}
        }
      ],
      "id": "KxvyOFDodeAu"
    },
    {
      "cell_type": "code",
      "source": [
        "graph.run(\"\"\"\n",
        "CALL gds.graph.project(\n",
        "  'ActorLate',\n",
        "  'Actor',\n",
        "  {WORK_WITH_LATE: {orientation: 'UNDIRECTED'}}\n",
        "\n",
        ")\n",
        "\"\"\"\n",
        ").to_data_frame()"
      ],
      "metadata": {
        "id": "AaOFeOD6deAu",
        "outputId": "c227fbf9-5dd7-4987-baad-1f0efc424fc1"
      },
      "execution_count": null,
      "outputs": [
        {
          "execution_count": 49,
          "output_type": "execute_result",
          "data": {
            "text/html": [
              "<div>\n",
              "<style scoped>\n",
              "    .dataframe tbody tr th:only-of-type {\n",
              "        vertical-align: middle;\n",
              "    }\n",
              "\n",
              "    .dataframe tbody tr th {\n",
              "        vertical-align: top;\n",
              "    }\n",
              "\n",
              "    .dataframe thead th {\n",
              "        text-align: right;\n",
              "    }\n",
              "</style>\n",
              "<table border=\"1\" class=\"dataframe\">\n",
              "  <thead>\n",
              "    <tr style=\"text-align: right;\">\n",
              "      <th></th>\n",
              "      <th>nodeProjection</th>\n",
              "      <th>relationshipProjection</th>\n",
              "      <th>graphName</th>\n",
              "      <th>nodeCount</th>\n",
              "      <th>relationshipCount</th>\n",
              "      <th>projectMillis</th>\n",
              "    </tr>\n",
              "  </thead>\n",
              "  <tbody>\n",
              "    <tr>\n",
              "      <th>0</th>\n",
              "      <td>{'Actor': {'label': 'Actor', 'properties': {}}}</td>\n",
              "      <td>{'WORK_WITH_LATE': {'orientation': 'UNDIRECTED...</td>\n",
              "      <td>ActorLate</td>\n",
              "      <td>22268</td>\n",
              "      <td>35628</td>\n",
              "      <td>53</td>\n",
              "    </tr>\n",
              "  </tbody>\n",
              "</table>\n",
              "</div>"
            ],
            "text/plain": [
              "                                    nodeProjection  \\\n",
              "0  {'Actor': {'label': 'Actor', 'properties': {}}}   \n",
              "\n",
              "                              relationshipProjection  graphName  nodeCount  \\\n",
              "0  {'WORK_WITH_LATE': {'orientation': 'UNDIRECTED...  ActorLate      22268   \n",
              "\n",
              "   relationshipCount  projectMillis  \n",
              "0              35628             53  "
            ]
          },
          "metadata": {}
        }
      ],
      "id": "AaOFeOD6deAu"
    },
    {
      "cell_type": "code",
      "source": [
        "graph.run(\"\"\"\n",
        "CALL gds.triangleCount.write('ActorLate',{\n",
        " writeProperty: 'trianglesTest'\n",
        "});\n",
        "\n",
        "\"\"\").to_data_frame()"
      ],
      "metadata": {
        "id": "ICCOfdTkdeAu",
        "outputId": "e6a185a9-7e0d-49ad-dfce-63ec58011fd5"
      },
      "execution_count": null,
      "outputs": [
        {
          "execution_count": 50,
          "output_type": "execute_result",
          "data": {
            "text/html": [
              "<div>\n",
              "<style scoped>\n",
              "    .dataframe tbody tr th:only-of-type {\n",
              "        vertical-align: middle;\n",
              "    }\n",
              "\n",
              "    .dataframe tbody tr th {\n",
              "        vertical-align: top;\n",
              "    }\n",
              "\n",
              "    .dataframe thead th {\n",
              "        text-align: right;\n",
              "    }\n",
              "</style>\n",
              "<table border=\"1\" class=\"dataframe\">\n",
              "  <thead>\n",
              "    <tr style=\"text-align: right;\">\n",
              "      <th></th>\n",
              "      <th>writeMillis</th>\n",
              "      <th>nodePropertiesWritten</th>\n",
              "      <th>globalTriangleCount</th>\n",
              "      <th>nodeCount</th>\n",
              "      <th>postProcessingMillis</th>\n",
              "      <th>preProcessingMillis</th>\n",
              "      <th>computeMillis</th>\n",
              "      <th>configuration</th>\n",
              "    </tr>\n",
              "  </thead>\n",
              "  <tbody>\n",
              "    <tr>\n",
              "      <th>0</th>\n",
              "      <td>125</td>\n",
              "      <td>22268</td>\n",
              "      <td>15948</td>\n",
              "      <td>22268</td>\n",
              "      <td>0</td>\n",
              "      <td>0</td>\n",
              "      <td>17</td>\n",
              "      <td>{'jobId': 'da5ed597-f28f-414f-a46a-c03b7bced3b...</td>\n",
              "    </tr>\n",
              "  </tbody>\n",
              "</table>\n",
              "</div>"
            ],
            "text/plain": [
              "   writeMillis  nodePropertiesWritten  globalTriangleCount  nodeCount  \\\n",
              "0          125                  22268                15948      22268   \n",
              "\n",
              "   postProcessingMillis  preProcessingMillis  computeMillis  \\\n",
              "0                     0                    0             17   \n",
              "\n",
              "                                       configuration  \n",
              "0  {'jobId': 'da5ed597-f28f-414f-a46a-c03b7bced3b...  "
            ]
          },
          "metadata": {}
        }
      ],
      "id": "ICCOfdTkdeAu"
    },
    {
      "cell_type": "code",
      "source": [
        "graph.run(\"\"\"\n",
        "CALL gds.graph.project(\n",
        "  'ActorCluste1',\n",
        "  'Actor',\n",
        "  {WORK_WITH_LATE: {orientation: 'UNDIRECTED'}}\n",
        ")\n",
        "\"\"\"\n",
        ").to_data_frame()"
      ],
      "metadata": {
        "id": "qxMK7YlQdeAu",
        "outputId": "619c219f-9ff9-4f0d-d5ee-0d5b7d0a18ed"
      },
      "execution_count": null,
      "outputs": [
        {
          "execution_count": 51,
          "output_type": "execute_result",
          "data": {
            "text/html": [
              "<div>\n",
              "<style scoped>\n",
              "    .dataframe tbody tr th:only-of-type {\n",
              "        vertical-align: middle;\n",
              "    }\n",
              "\n",
              "    .dataframe tbody tr th {\n",
              "        vertical-align: top;\n",
              "    }\n",
              "\n",
              "    .dataframe thead th {\n",
              "        text-align: right;\n",
              "    }\n",
              "</style>\n",
              "<table border=\"1\" class=\"dataframe\">\n",
              "  <thead>\n",
              "    <tr style=\"text-align: right;\">\n",
              "      <th></th>\n",
              "      <th>nodeProjection</th>\n",
              "      <th>relationshipProjection</th>\n",
              "      <th>graphName</th>\n",
              "      <th>nodeCount</th>\n",
              "      <th>relationshipCount</th>\n",
              "      <th>projectMillis</th>\n",
              "    </tr>\n",
              "  </thead>\n",
              "  <tbody>\n",
              "    <tr>\n",
              "      <th>0</th>\n",
              "      <td>{'Actor': {'label': 'Actor', 'properties': {}}}</td>\n",
              "      <td>{'WORK_WITH_LATE': {'orientation': 'UNDIRECTED...</td>\n",
              "      <td>ActorCluste1</td>\n",
              "      <td>22268</td>\n",
              "      <td>35628</td>\n",
              "      <td>54</td>\n",
              "    </tr>\n",
              "  </tbody>\n",
              "</table>\n",
              "</div>"
            ],
            "text/plain": [
              "                                    nodeProjection  \\\n",
              "0  {'Actor': {'label': 'Actor', 'properties': {}}}   \n",
              "\n",
              "                              relationshipProjection     graphName  nodeCount  \\\n",
              "0  {'WORK_WITH_LATE': {'orientation': 'UNDIRECTED...  ActorCluste1      22268   \n",
              "\n",
              "   relationshipCount  projectMillis  \n",
              "0              35628             54  "
            ]
          },
          "metadata": {}
        }
      ],
      "id": "qxMK7YlQdeAu"
    },
    {
      "cell_type": "code",
      "source": [
        "graph.run(\"\"\"\n",
        "CALL gds.localClusteringCoefficient.write('ActorCluste1',{\n",
        " writeProperty: 'coefficientTrain'\n",
        "});\n",
        "\"\"\").to_data_frame()"
      ],
      "metadata": {
        "id": "IRkuJE-4deAv",
        "outputId": "a218d40e-b248-4409-c6f5-99197fc4e754"
      },
      "execution_count": null,
      "outputs": [
        {
          "execution_count": 52,
          "output_type": "execute_result",
          "data": {
            "text/html": [
              "<div>\n",
              "<style scoped>\n",
              "    .dataframe tbody tr th:only-of-type {\n",
              "        vertical-align: middle;\n",
              "    }\n",
              "\n",
              "    .dataframe tbody tr th {\n",
              "        vertical-align: top;\n",
              "    }\n",
              "\n",
              "    .dataframe thead th {\n",
              "        text-align: right;\n",
              "    }\n",
              "</style>\n",
              "<table border=\"1\" class=\"dataframe\">\n",
              "  <thead>\n",
              "    <tr style=\"text-align: right;\">\n",
              "      <th></th>\n",
              "      <th>writeMillis</th>\n",
              "      <th>nodePropertiesWritten</th>\n",
              "      <th>averageClusteringCoefficient</th>\n",
              "      <th>nodeCount</th>\n",
              "      <th>postProcessingMillis</th>\n",
              "      <th>preProcessingMillis</th>\n",
              "      <th>computeMillis</th>\n",
              "      <th>configuration</th>\n",
              "    </tr>\n",
              "  </thead>\n",
              "  <tbody>\n",
              "    <tr>\n",
              "      <th>0</th>\n",
              "      <td>122</td>\n",
              "      <td>22268</td>\n",
              "      <td>0.356</td>\n",
              "      <td>22268</td>\n",
              "      <td>0</td>\n",
              "      <td>1</td>\n",
              "      <td>56</td>\n",
              "      <td>{'jobId': 'a99587e8-2bd7-4d89-8635-977d3ba5e78...</td>\n",
              "    </tr>\n",
              "  </tbody>\n",
              "</table>\n",
              "</div>"
            ],
            "text/plain": [
              "   writeMillis  nodePropertiesWritten  averageClusteringCoefficient  \\\n",
              "0          122                  22268                         0.356   \n",
              "\n",
              "   nodeCount  postProcessingMillis  preProcessingMillis  computeMillis  \\\n",
              "0      22268                     0                    1             56   \n",
              "\n",
              "                                       configuration  \n",
              "0  {'jobId': 'a99587e8-2bd7-4d89-8635-977d3ba5e78...  "
            ]
          },
          "metadata": {}
        }
      ],
      "id": "IRkuJE-4deAv"
    },
    {
      "cell_type": "code",
      "source": [
        "graph.run(\"\"\"\n",
        "CALL gds.graph.project(\n",
        "  'ActorCluste2',\n",
        "  'Actor',\n",
        "  {WORK_WITH_LATE: {orientation: 'UNDIRECTED'}}\n",
        ")\n",
        "\"\"\"\n",
        ").to_data_frame()"
      ],
      "metadata": {
        "id": "y0p6VegodeAv",
        "outputId": "de641f74-652a-45d2-fa64-82d30ea2ba54"
      },
      "execution_count": null,
      "outputs": [
        {
          "execution_count": 53,
          "output_type": "execute_result",
          "data": {
            "text/html": [
              "<div>\n",
              "<style scoped>\n",
              "    .dataframe tbody tr th:only-of-type {\n",
              "        vertical-align: middle;\n",
              "    }\n",
              "\n",
              "    .dataframe tbody tr th {\n",
              "        vertical-align: top;\n",
              "    }\n",
              "\n",
              "    .dataframe thead th {\n",
              "        text-align: right;\n",
              "    }\n",
              "</style>\n",
              "<table border=\"1\" class=\"dataframe\">\n",
              "  <thead>\n",
              "    <tr style=\"text-align: right;\">\n",
              "      <th></th>\n",
              "      <th>nodeProjection</th>\n",
              "      <th>relationshipProjection</th>\n",
              "      <th>graphName</th>\n",
              "      <th>nodeCount</th>\n",
              "      <th>relationshipCount</th>\n",
              "      <th>projectMillis</th>\n",
              "    </tr>\n",
              "  </thead>\n",
              "  <tbody>\n",
              "    <tr>\n",
              "      <th>0</th>\n",
              "      <td>{'Actor': {'label': 'Actor', 'properties': {}}}</td>\n",
              "      <td>{'WORK_WITH_LATE': {'orientation': 'UNDIRECTED...</td>\n",
              "      <td>ActorCluste2</td>\n",
              "      <td>22268</td>\n",
              "      <td>35628</td>\n",
              "      <td>47</td>\n",
              "    </tr>\n",
              "  </tbody>\n",
              "</table>\n",
              "</div>"
            ],
            "text/plain": [
              "                                    nodeProjection  \\\n",
              "0  {'Actor': {'label': 'Actor', 'properties': {}}}   \n",
              "\n",
              "                              relationshipProjection     graphName  nodeCount  \\\n",
              "0  {'WORK_WITH_LATE': {'orientation': 'UNDIRECTED...  ActorCluste2      22268   \n",
              "\n",
              "   relationshipCount  projectMillis  \n",
              "0              35628             47  "
            ]
          },
          "metadata": {}
        }
      ],
      "id": "y0p6VegodeAv"
    },
    {
      "cell_type": "code",
      "source": [
        "graph.run(\"\"\"\n",
        "CALL gds.localClusteringCoefficient.write('ActorCluste2',{\n",
        " writeProperty: 'coefficientTest'\n",
        "});\n",
        "\"\"\").to_data_frame()"
      ],
      "metadata": {
        "id": "AUO8VIV9deAw",
        "outputId": "cb8e0f84-6b61-4dac-dda6-6fcd642a0848"
      },
      "execution_count": null,
      "outputs": [
        {
          "execution_count": 54,
          "output_type": "execute_result",
          "data": {
            "text/html": [
              "<div>\n",
              "<style scoped>\n",
              "    .dataframe tbody tr th:only-of-type {\n",
              "        vertical-align: middle;\n",
              "    }\n",
              "\n",
              "    .dataframe tbody tr th {\n",
              "        vertical-align: top;\n",
              "    }\n",
              "\n",
              "    .dataframe thead th {\n",
              "        text-align: right;\n",
              "    }\n",
              "</style>\n",
              "<table border=\"1\" class=\"dataframe\">\n",
              "  <thead>\n",
              "    <tr style=\"text-align: right;\">\n",
              "      <th></th>\n",
              "      <th>writeMillis</th>\n",
              "      <th>nodePropertiesWritten</th>\n",
              "      <th>averageClusteringCoefficient</th>\n",
              "      <th>nodeCount</th>\n",
              "      <th>postProcessingMillis</th>\n",
              "      <th>preProcessingMillis</th>\n",
              "      <th>computeMillis</th>\n",
              "      <th>configuration</th>\n",
              "    </tr>\n",
              "  </thead>\n",
              "  <tbody>\n",
              "    <tr>\n",
              "      <th>0</th>\n",
              "      <td>90</td>\n",
              "      <td>22268</td>\n",
              "      <td>0.356</td>\n",
              "      <td>22268</td>\n",
              "      <td>0</td>\n",
              "      <td>0</td>\n",
              "      <td>31</td>\n",
              "      <td>{'jobId': 'da2c6c8d-e789-4d84-ad85-0770940dcda...</td>\n",
              "    </tr>\n",
              "  </tbody>\n",
              "</table>\n",
              "</div>"
            ],
            "text/plain": [
              "   writeMillis  nodePropertiesWritten  averageClusteringCoefficient  \\\n",
              "0           90                  22268                         0.356   \n",
              "\n",
              "   nodeCount  postProcessingMillis  preProcessingMillis  computeMillis  \\\n",
              "0      22268                     0                    0             31   \n",
              "\n",
              "                                       configuration  \n",
              "0  {'jobId': 'da2c6c8d-e789-4d84-ad85-0770940dcda...  "
            ]
          },
          "metadata": {}
        }
      ],
      "id": "AUO8VIV9deAw"
    },
    {
      "cell_type": "code",
      "source": [
        "def apply_triangles_features(data, triangles_prop, coefficient_prop):\n",
        "    query = \"\"\"\n",
        "    UNWIND $pairs AS pair\n",
        "    MATCH (p1) WHERE id(p1) = pair.node1\n",
        "    MATCH (p2) WHERE id(p2) = pair.node2\n",
        "    RETURN pair.node1 AS node1,\n",
        "    pair.node2 AS node2,\n",
        "    apoc.coll.min([p1[$trianglesProp], p2[$trianglesProp]]) AS minTriangles,\n",
        "    apoc.coll.max([p1[$trianglesProp], p2[$trianglesProp]]) AS maxTriangles,\n",
        "    apoc.coll.min([p1[$coefficientProp], p2[$coefficientProp]]) AS minCoefficient,\n",
        "    apoc.coll.max([p1[$coefficientProp], p2[$coefficientProp]]) AS maxCoefficient\n",
        "    \"\"\"\n",
        "    pairs = [{\"node1\": node1, \"node2\": node2}  for node1,node2 in data[[\"node1\", \"node2\"]].values.tolist()]\n",
        "    params = {\n",
        "    \"pairs\": pairs,\n",
        "    \"trianglesProp\": triangles_prop,\n",
        "    \"coefficientProp\": coefficient_prop\n",
        "    }\n",
        "    features = graph.run(query, params).to_data_frame()\n",
        "    return pd.merge(data, features, on = [\"node1\", \"node2\"])"
      ],
      "metadata": {
        "id": "gdhAhioideAw"
      },
      "execution_count": null,
      "outputs": [],
      "id": "gdhAhioideAw"
    },
    {
      "cell_type": "code",
      "source": [
        "#Uncomment to create the the 4 new features and add them to the dataframe\n",
        "training_df = apply_triangles_features(training_df, \"trianglesTrain\", \"coefficientTrain\")\n",
        "test_df = apply_triangles_features(test_df, \"trianglesTest\", \"coefficientTest\")"
      ],
      "metadata": {
        "id": "7dABeTB-deAw"
      },
      "execution_count": null,
      "outputs": [],
      "id": "7dABeTB-deAw"
    },
    {
      "cell_type": "code",
      "source": [
        "training_df.head()"
      ],
      "metadata": {
        "id": "v1wWiE7zdeAx",
        "outputId": "74db51bd-236c-417d-f6c9-89437c3e24a5"
      },
      "execution_count": null,
      "outputs": [
        {
          "execution_count": 57,
          "output_type": "execute_result",
          "data": {
            "text/html": [
              "<div>\n",
              "<style scoped>\n",
              "    .dataframe tbody tr th:only-of-type {\n",
              "        vertical-align: middle;\n",
              "    }\n",
              "\n",
              "    .dataframe tbody tr th {\n",
              "        vertical-align: top;\n",
              "    }\n",
              "\n",
              "    .dataframe thead th {\n",
              "        text-align: right;\n",
              "    }\n",
              "</style>\n",
              "<table border=\"1\" class=\"dataframe\">\n",
              "  <thead>\n",
              "    <tr style=\"text-align: right;\">\n",
              "      <th></th>\n",
              "      <th>node1</th>\n",
              "      <th>node2</th>\n",
              "      <th>label</th>\n",
              "      <th>cn</th>\n",
              "      <th>pa</th>\n",
              "      <th>tn</th>\n",
              "      <th>minTriangles</th>\n",
              "      <th>maxTriangles</th>\n",
              "      <th>minCoefficient</th>\n",
              "      <th>maxCoefficient</th>\n",
              "    </tr>\n",
              "  </thead>\n",
              "  <tbody>\n",
              "    <tr>\n",
              "      <th>0</th>\n",
              "      <td>11213</td>\n",
              "      <td>22326</td>\n",
              "      <td>1</td>\n",
              "      <td>2.000</td>\n",
              "      <td>84.000</td>\n",
              "      <td>18.000</td>\n",
              "      <td>6</td>\n",
              "      <td>15</td>\n",
              "      <td>0.000</td>\n",
              "      <td>1.000</td>\n",
              "    </tr>\n",
              "    <tr>\n",
              "      <th>1</th>\n",
              "      <td>18640</td>\n",
              "      <td>18641</td>\n",
              "      <td>1</td>\n",
              "      <td>2.000</td>\n",
              "      <td>9.000</td>\n",
              "      <td>4.000</td>\n",
              "      <td>3</td>\n",
              "      <td>3</td>\n",
              "      <td>0.000</td>\n",
              "      <td>0.000</td>\n",
              "    </tr>\n",
              "    <tr>\n",
              "      <th>2</th>\n",
              "      <td>17946</td>\n",
              "      <td>17947</td>\n",
              "      <td>1</td>\n",
              "      <td>3.000</td>\n",
              "      <td>16.000</td>\n",
              "      <td>5.000</td>\n",
              "      <td>6</td>\n",
              "      <td>6</td>\n",
              "      <td>0.000</td>\n",
              "      <td>0.000</td>\n",
              "    </tr>\n",
              "    <tr>\n",
              "      <th>3</th>\n",
              "      <td>22834</td>\n",
              "      <td>12111</td>\n",
              "      <td>0</td>\n",
              "      <td>0.000</td>\n",
              "      <td>16.000</td>\n",
              "      <td>8.000</td>\n",
              "      <td>6</td>\n",
              "      <td>6</td>\n",
              "      <td>0.000</td>\n",
              "      <td>0.273</td>\n",
              "    </tr>\n",
              "    <tr>\n",
              "      <th>4</th>\n",
              "      <td>9609</td>\n",
              "      <td>8250</td>\n",
              "      <td>0</td>\n",
              "      <td>1.000</td>\n",
              "      <td>114.000</td>\n",
              "      <td>40.000</td>\n",
              "      <td>3</td>\n",
              "      <td>61</td>\n",
              "      <td>0.176</td>\n",
              "      <td>1.000</td>\n",
              "    </tr>\n",
              "  </tbody>\n",
              "</table>\n",
              "</div>"
            ],
            "text/plain": [
              "   node1  node2 label    cn      pa     tn  minTriangles  maxTriangles  \\\n",
              "0  11213  22326     1 2.000  84.000 18.000             6            15   \n",
              "1  18640  18641     1 2.000   9.000  4.000             3             3   \n",
              "2  17946  17947     1 3.000  16.000  5.000             6             6   \n",
              "3  22834  12111     0 0.000  16.000  8.000             6             6   \n",
              "4   9609   8250     0 1.000 114.000 40.000             3            61   \n",
              "\n",
              "   minCoefficient  maxCoefficient  \n",
              "0           0.000           1.000  \n",
              "1           0.000           0.000  \n",
              "2           0.000           0.000  \n",
              "3           0.000           0.273  \n",
              "4           0.176           1.000  "
            ]
          },
          "metadata": {}
        }
      ],
      "id": "v1wWiE7zdeAx"
    },
    {
      "cell_type": "code",
      "source": [
        "test_df.head()"
      ],
      "metadata": {
        "id": "SSJfcmX6deAx",
        "outputId": "7c7d9c99-0d77-4d20-b663-eee360b5d686"
      },
      "execution_count": null,
      "outputs": [
        {
          "execution_count": 58,
          "output_type": "execute_result",
          "data": {
            "text/html": [
              "<div>\n",
              "<style scoped>\n",
              "    .dataframe tbody tr th:only-of-type {\n",
              "        vertical-align: middle;\n",
              "    }\n",
              "\n",
              "    .dataframe tbody tr th {\n",
              "        vertical-align: top;\n",
              "    }\n",
              "\n",
              "    .dataframe thead th {\n",
              "        text-align: right;\n",
              "    }\n",
              "</style>\n",
              "<table border=\"1\" class=\"dataframe\">\n",
              "  <thead>\n",
              "    <tr style=\"text-align: right;\">\n",
              "      <th></th>\n",
              "      <th>node1</th>\n",
              "      <th>node2</th>\n",
              "      <th>label</th>\n",
              "      <th>cn</th>\n",
              "      <th>pa</th>\n",
              "      <th>tn</th>\n",
              "      <th>minTriangles</th>\n",
              "      <th>maxTriangles</th>\n",
              "      <th>minCoefficient</th>\n",
              "      <th>maxCoefficient</th>\n",
              "    </tr>\n",
              "  </thead>\n",
              "  <tbody>\n",
              "    <tr>\n",
              "      <th>0</th>\n",
              "      <td>13035</td>\n",
              "      <td>7572</td>\n",
              "      <td>0</td>\n",
              "      <td>1.000</td>\n",
              "      <td>56.000</td>\n",
              "      <td>17.000</td>\n",
              "      <td>6</td>\n",
              "      <td>27</td>\n",
              "      <td>0.297</td>\n",
              "      <td>1.000</td>\n",
              "    </tr>\n",
              "    <tr>\n",
              "      <th>1</th>\n",
              "      <td>18506</td>\n",
              "      <td>16029</td>\n",
              "      <td>0</td>\n",
              "      <td>1.000</td>\n",
              "      <td>28.000</td>\n",
              "      <td>10.000</td>\n",
              "      <td>6</td>\n",
              "      <td>9</td>\n",
              "      <td>0.429</td>\n",
              "      <td>1.000</td>\n",
              "    </tr>\n",
              "    <tr>\n",
              "      <th>2</th>\n",
              "      <td>12605</td>\n",
              "      <td>12606</td>\n",
              "      <td>1</td>\n",
              "      <td>2.000</td>\n",
              "      <td>21.000</td>\n",
              "      <td>8.000</td>\n",
              "      <td>3</td>\n",
              "      <td>9</td>\n",
              "      <td>0.429</td>\n",
              "      <td>1.000</td>\n",
              "    </tr>\n",
              "    <tr>\n",
              "      <th>3</th>\n",
              "      <td>7347</td>\n",
              "      <td>9557</td>\n",
              "      <td>0</td>\n",
              "      <td>0.000</td>\n",
              "      <td>24.000</td>\n",
              "      <td>10.000</td>\n",
              "      <td>6</td>\n",
              "      <td>6</td>\n",
              "      <td>0.400</td>\n",
              "      <td>1.000</td>\n",
              "    </tr>\n",
              "    <tr>\n",
              "      <th>4</th>\n",
              "      <td>27241</td>\n",
              "      <td>27244</td>\n",
              "      <td>1</td>\n",
              "      <td>3.000</td>\n",
              "      <td>16.000</td>\n",
              "      <td>5.000</td>\n",
              "      <td>6</td>\n",
              "      <td>6</td>\n",
              "      <td>1.000</td>\n",
              "      <td>1.000</td>\n",
              "    </tr>\n",
              "  </tbody>\n",
              "</table>\n",
              "</div>"
            ],
            "text/plain": [
              "   node1  node2 label    cn     pa     tn  minTriangles  maxTriangles  \\\n",
              "0  13035   7572     0 1.000 56.000 17.000             6            27   \n",
              "1  18506  16029     0 1.000 28.000 10.000             6             9   \n",
              "2  12605  12606     1 2.000 21.000  8.000             3             9   \n",
              "3   7347   9557     0 0.000 24.000 10.000             6             6   \n",
              "4  27241  27244     1 3.000 16.000  5.000             6             6   \n",
              "\n",
              "   minCoefficient  maxCoefficient  \n",
              "0           0.297           1.000  \n",
              "1           0.429           1.000  \n",
              "2           0.429           1.000  \n",
              "3           0.400           1.000  \n",
              "4           1.000           1.000  "
            ]
          },
          "metadata": {}
        }
      ],
      "id": "SSJfcmX6deAx"
    },
    {
      "cell_type": "markdown",
      "source": [
        "### Model 3: using graph parameters (cn, pa, tn), triangles, and cluste coefficients as features"
      ],
      "metadata": {
        "id": "QuJdytj2deAx"
      },
      "id": "QuJdytj2deAx"
    },
    {
      "cell_type": "code",
      "source": [
        "columns = [\n",
        "    \"cn\", \"pa\", \"tn\", # graph features\n",
        "    \"minTriangles\", \"maxTriangles\", \"minCoefficient\", \"maxCoefficient\" # triangle features\n",
        "]\n",
        "\n",
        "X = training_df[columns]\n",
        "y = training_df[\"label\"]\n",
        "classifier.fit(X, y)\n",
        "\n",
        "predictions = classifier.predict(test_df[columns])\n",
        "y_test = test_df[\"label\"]\n",
        "\n",
        "display(\"Accuracy\", accuracy_score(y_test, predictions))\n",
        "display(\"Precision\", precision_score(y_test, predictions))\n",
        "display(\"Recall\", recall_score(y_test, predictions))\n",
        "display(\"AUC\",roc_auc_score(y_test, predictions))\n",
        "\n",
        "sorted(list(zip(columns, classifier.feature_importances_)), key = lambda x: x[1]*-1)"
      ],
      "metadata": {
        "id": "vLwa5od1deAx",
        "outputId": "6d312ffc-51d6-4301-e11a-e86ddf8a6f3d"
      },
      "execution_count": null,
      "outputs": [
        {
          "output_type": "display_data",
          "data": {
            "text/plain": [
              "'Accuracy'"
            ]
          },
          "metadata": {}
        },
        {
          "output_type": "display_data",
          "data": {
            "text/plain": [
              "0.9841416863141349"
            ]
          },
          "metadata": {}
        },
        {
          "output_type": "display_data",
          "data": {
            "text/plain": [
              "'Precision'"
            ]
          },
          "metadata": {}
        },
        {
          "output_type": "display_data",
          "data": {
            "text/plain": [
              "0.9851493502840749"
            ]
          },
          "metadata": {}
        },
        {
          "output_type": "display_data",
          "data": {
            "text/plain": [
              "'Recall'"
            ]
          },
          "metadata": {}
        },
        {
          "output_type": "display_data",
          "data": {
            "text/plain": [
              "0.9831031772762996"
            ]
          },
          "metadata": {}
        },
        {
          "output_type": "display_data",
          "data": {
            "text/plain": [
              "'AUC'"
            ]
          },
          "metadata": {}
        },
        {
          "output_type": "display_data",
          "data": {
            "text/plain": [
              "0.984141686314135"
            ]
          },
          "metadata": {}
        },
        {
          "execution_count": 59,
          "output_type": "execute_result",
          "data": {
            "text/plain": [
              "[('cn', 0.7356269509255299),\n",
              " ('tn', 0.17314996014180126),\n",
              " ('pa', 0.04148402932763873),\n",
              " ('maxTriangles', 0.028289133078002043),\n",
              " ('minTriangles', 0.014768164318422157),\n",
              " ('maxCoefficient', 0.006208737184290631),\n",
              " ('minCoefficient', 0.000473025024315228)]"
            ]
          },
          "metadata": {}
        }
      ],
      "id": "vLwa5od1deAx"
    },
    {
      "cell_type": "code",
      "source": [
        "#Results\n",
        "m3l = [accuracy_score(y_test, predictions),precision_score(y_test, predictions),recall_score(y_test, predictions),roc_auc_score(y_test, predictions)]\n",
        "results['Model 3'] = m3l\n",
        "results"
      ],
      "metadata": {
        "id": "dRGdQ5zZdeAy",
        "outputId": "b1224c9a-503a-47fd-cfe4-a5c5a5e522a1"
      },
      "execution_count": null,
      "outputs": [
        {
          "execution_count": 60,
          "output_type": "execute_result",
          "data": {
            "text/html": [
              "<div>\n",
              "<style scoped>\n",
              "    .dataframe tbody tr th:only-of-type {\n",
              "        vertical-align: middle;\n",
              "    }\n",
              "\n",
              "    .dataframe tbody tr th {\n",
              "        vertical-align: top;\n",
              "    }\n",
              "\n",
              "    .dataframe thead th {\n",
              "        text-align: right;\n",
              "    }\n",
              "</style>\n",
              "<table border=\"1\" class=\"dataframe\">\n",
              "  <thead>\n",
              "    <tr style=\"text-align: right;\">\n",
              "      <th></th>\n",
              "      <th>Model 1</th>\n",
              "      <th>Model 2</th>\n",
              "      <th>Model 3</th>\n",
              "    </tr>\n",
              "  </thead>\n",
              "  <tbody>\n",
              "    <tr>\n",
              "      <th>Accuracy</th>\n",
              "      <td>0.974</td>\n",
              "      <td>0.980</td>\n",
              "      <td>0.984</td>\n",
              "    </tr>\n",
              "    <tr>\n",
              "      <th>Precision</th>\n",
              "      <td>0.985</td>\n",
              "      <td>0.984</td>\n",
              "      <td>0.985</td>\n",
              "    </tr>\n",
              "    <tr>\n",
              "      <th>Recall</th>\n",
              "      <td>0.963</td>\n",
              "      <td>0.975</td>\n",
              "      <td>0.983</td>\n",
              "    </tr>\n",
              "    <tr>\n",
              "      <th>AUC</th>\n",
              "      <td>0.974</td>\n",
              "      <td>0.980</td>\n",
              "      <td>0.984</td>\n",
              "    </tr>\n",
              "  </tbody>\n",
              "</table>\n",
              "</div>"
            ],
            "text/plain": [
              "           Model 1  Model 2  Model 3\n",
              "Accuracy     0.974    0.980    0.984\n",
              "Precision    0.985    0.984    0.985\n",
              "Recall       0.963    0.975    0.983\n",
              "AUC          0.974    0.980    0.984"
            ]
          },
          "metadata": {}
        }
      ],
      "id": "dRGdQ5zZdeAy"
    },
    {
      "cell_type": "markdown",
      "source": [
        "### Calculating the community detection coefficients"
      ],
      "metadata": {
        "id": "AHYVZ10KdeAy"
      },
      "id": "AHYVZ10KdeAy"
    },
    {
      "cell_type": "code",
      "source": [
        "graph.run(\"\"\"\n",
        "CALL gds.labelPropagation.write('Actor',{\n",
        " writeProperty: \"partitionTrain\"\n",
        "});\n",
        "\"\"\").to_data_frame()"
      ],
      "metadata": {
        "id": "UxEb-DNAdeAy",
        "outputId": "ecd33781-e49b-4314-f408-3949585d1572"
      },
      "execution_count": null,
      "outputs": [
        {
          "execution_count": 61,
          "output_type": "execute_result",
          "data": {
            "text/html": [
              "<div>\n",
              "<style scoped>\n",
              "    .dataframe tbody tr th:only-of-type {\n",
              "        vertical-align: middle;\n",
              "    }\n",
              "\n",
              "    .dataframe tbody tr th {\n",
              "        vertical-align: top;\n",
              "    }\n",
              "\n",
              "    .dataframe thead th {\n",
              "        text-align: right;\n",
              "    }\n",
              "</style>\n",
              "<table border=\"1\" class=\"dataframe\">\n",
              "  <thead>\n",
              "    <tr style=\"text-align: right;\">\n",
              "      <th></th>\n",
              "      <th>writeMillis</th>\n",
              "      <th>nodePropertiesWritten</th>\n",
              "      <th>ranIterations</th>\n",
              "      <th>didConverge</th>\n",
              "      <th>communityCount</th>\n",
              "      <th>communityDistribution</th>\n",
              "      <th>postProcessingMillis</th>\n",
              "      <th>preProcessingMillis</th>\n",
              "      <th>computeMillis</th>\n",
              "      <th>configuration</th>\n",
              "    </tr>\n",
              "  </thead>\n",
              "  <tbody>\n",
              "    <tr>\n",
              "      <th>0</th>\n",
              "      <td>78</td>\n",
              "      <td>22268</td>\n",
              "      <td>10</td>\n",
              "      <td>False</td>\n",
              "      <td>8838</td>\n",
              "      <td>{'p99': 17, 'min': 1, 'max': 753, 'mean': 2.51...</td>\n",
              "      <td>23</td>\n",
              "      <td>0</td>\n",
              "      <td>143</td>\n",
              "      <td>{'jobId': 'a3db854c-9a2d-420c-a2d8-8b137544507...</td>\n",
              "    </tr>\n",
              "  </tbody>\n",
              "</table>\n",
              "</div>"
            ],
            "text/plain": [
              "   writeMillis  nodePropertiesWritten  ranIterations  didConverge  \\\n",
              "0           78                  22268             10        False   \n",
              "\n",
              "   communityCount                              communityDistribution  \\\n",
              "0            8838  {'p99': 17, 'min': 1, 'max': 753, 'mean': 2.51...   \n",
              "\n",
              "   postProcessingMillis  preProcessingMillis  computeMillis  \\\n",
              "0                    23                    0            143   \n",
              "\n",
              "                                       configuration  \n",
              "0  {'jobId': 'a3db854c-9a2d-420c-a2d8-8b137544507...  "
            ]
          },
          "metadata": {}
        }
      ],
      "id": "UxEb-DNAdeAy"
    },
    {
      "cell_type": "code",
      "source": [
        "graph.run(\"\"\"\n",
        "CALL gds.labelPropagation.write('ActorLate',{\n",
        " writeProperty: \"partitionTest\"\n",
        "});\n",
        "\"\"\").to_data_frame()"
      ],
      "metadata": {
        "id": "vMbv5dKDdeAz",
        "outputId": "0d9ebdbf-a7e3-4c00-fb92-2193b385aed4"
      },
      "execution_count": null,
      "outputs": [
        {
          "execution_count": 62,
          "output_type": "execute_result",
          "data": {
            "text/html": [
              "<div>\n",
              "<style scoped>\n",
              "    .dataframe tbody tr th:only-of-type {\n",
              "        vertical-align: middle;\n",
              "    }\n",
              "\n",
              "    .dataframe tbody tr th {\n",
              "        vertical-align: top;\n",
              "    }\n",
              "\n",
              "    .dataframe thead th {\n",
              "        text-align: right;\n",
              "    }\n",
              "</style>\n",
              "<table border=\"1\" class=\"dataframe\">\n",
              "  <thead>\n",
              "    <tr style=\"text-align: right;\">\n",
              "      <th></th>\n",
              "      <th>writeMillis</th>\n",
              "      <th>nodePropertiesWritten</th>\n",
              "      <th>ranIterations</th>\n",
              "      <th>didConverge</th>\n",
              "      <th>communityCount</th>\n",
              "      <th>communityDistribution</th>\n",
              "      <th>postProcessingMillis</th>\n",
              "      <th>preProcessingMillis</th>\n",
              "      <th>computeMillis</th>\n",
              "      <th>configuration</th>\n",
              "    </tr>\n",
              "  </thead>\n",
              "  <tbody>\n",
              "    <tr>\n",
              "      <th>0</th>\n",
              "      <td>54</td>\n",
              "      <td>22268</td>\n",
              "      <td>6</td>\n",
              "      <td>True</td>\n",
              "      <td>14777</td>\n",
              "      <td>{'p99': 11, 'min': 1, 'max': 113, 'mean': 1.50...</td>\n",
              "      <td>13</td>\n",
              "      <td>0</td>\n",
              "      <td>56</td>\n",
              "      <td>{'jobId': '284632bd-f761-45eb-a662-aae04a22eb7...</td>\n",
              "    </tr>\n",
              "  </tbody>\n",
              "</table>\n",
              "</div>"
            ],
            "text/plain": [
              "   writeMillis  nodePropertiesWritten  ranIterations  didConverge  \\\n",
              "0           54                  22268              6         True   \n",
              "\n",
              "   communityCount                              communityDistribution  \\\n",
              "0           14777  {'p99': 11, 'min': 1, 'max': 113, 'mean': 1.50...   \n",
              "\n",
              "   postProcessingMillis  preProcessingMillis  computeMillis  \\\n",
              "0                    13                    0             56   \n",
              "\n",
              "                                       configuration  \n",
              "0  {'jobId': '284632bd-f761-45eb-a662-aae04a22eb7...  "
            ]
          },
          "metadata": {}
        }
      ],
      "id": "vMbv5dKDdeAz"
    },
    {
      "cell_type": "code",
      "source": [
        "graph.run(\"\"\"\n",
        "CALL gds.louvain.stream('Actor',{\n",
        " includeIntermediateCommunities: true\n",
        "})\n",
        "YIELD nodeId, communityId, intermediateCommunityIds\n",
        "WITH gds.util.asNode(nodeId) AS node,\n",
        " intermediateCommunityIds[0] AS smallestCommunity\n",
        "SET node.louvainTrain = smallestCommunity;\n",
        "\"\"\").stats()"
      ],
      "metadata": {
        "id": "229g-KZbdeAz",
        "outputId": "723cda19-34a8-4d99-a6c6-5af5ec98309e"
      },
      "execution_count": null,
      "outputs": [
        {
          "execution_count": 63,
          "output_type": "execute_result",
          "data": {
            "text/plain": [
              "{'properties_set': 22268}"
            ]
          },
          "metadata": {}
        }
      ],
      "id": "229g-KZbdeAz"
    },
    {
      "cell_type": "code",
      "source": [
        "graph.run(\"\"\"\n",
        "CALL gds.louvain.stream('ActorLate',{\n",
        " includeIntermediateCommunities: true\n",
        "})\n",
        "YIELD nodeId, communityId, intermediateCommunityIds\n",
        "WITH gds.util.asNode(nodeId) AS node,\n",
        " intermediateCommunityIds[0] AS smallestCommunity\n",
        "SET node.louvainTest = smallestCommunity;\n",
        "\"\"\").stats()"
      ],
      "metadata": {
        "id": "GVESvpjydeAz",
        "outputId": "d6c6d982-c09a-4aa5-d757-d7ef91f09568"
      },
      "execution_count": null,
      "outputs": [
        {
          "execution_count": 64,
          "output_type": "execute_result",
          "data": {
            "text/plain": [
              "{'properties_set': 22268}"
            ]
          },
          "metadata": {}
        }
      ],
      "id": "GVESvpjydeAz"
    },
    {
      "cell_type": "code",
      "source": [
        "def apply_community_features(data, partition_prop, louvain_prop):\n",
        "    query = \"\"\"\n",
        "    UNWIND $pairs AS pair\n",
        "    MATCH (p1) WHERE id(p1) = pair.node1\n",
        "    MATCH (p2) WHERE id(p2) = pair.node2\n",
        "    RETURN pair.node1 AS node1,\n",
        "    pair.node2 AS node2,\n",
        "    gds.alpha.linkprediction.sameCommunity(p1, p2, $partitionProp) AS sp,\n",
        "    gds.alpha.linkprediction.sameCommunity(p1, p2, $louvainProp) AS sl\n",
        "    \"\"\"\n",
        "    pairs = [{\"node1\": node1, \"node2\": node2}  for node1,node2 in data[[\"node1\", \"node2\"]].values.tolist()]\n",
        "    params = {\n",
        "    \"pairs\": pairs,\n",
        "    \"partitionProp\": partition_prop,\n",
        "    \"louvainProp\": louvain_prop\n",
        "    }\n",
        "    features = graph.run(query, params).to_data_frame()\n",
        "    return pd.merge(data, features, on = [\"node1\", \"node2\"])"
      ],
      "metadata": {
        "id": "v1VCqO52deA0"
      },
      "execution_count": null,
      "outputs": [],
      "id": "v1VCqO52deA0"
    },
    {
      "cell_type": "code",
      "source": [
        "training_df = apply_community_features(training_df, \"partitionTrain\", \"louvainTrain\")\n",
        "test_df = apply_community_features(test_df, \"partitionTest\", \"louvainTest\")"
      ],
      "metadata": {
        "id": "effxU5ZRdeA0"
      },
      "execution_count": null,
      "outputs": [],
      "id": "effxU5ZRdeA0"
    },
    {
      "cell_type": "code",
      "source": [
        "training_df.head()"
      ],
      "metadata": {
        "id": "vNVQ593SdeA0",
        "outputId": "a1de0f67-9558-4774-deab-7b2daa1b1bf2"
      },
      "execution_count": null,
      "outputs": [
        {
          "execution_count": 67,
          "output_type": "execute_result",
          "data": {
            "text/html": [
              "<div>\n",
              "<style scoped>\n",
              "    .dataframe tbody tr th:only-of-type {\n",
              "        vertical-align: middle;\n",
              "    }\n",
              "\n",
              "    .dataframe tbody tr th {\n",
              "        vertical-align: top;\n",
              "    }\n",
              "\n",
              "    .dataframe thead th {\n",
              "        text-align: right;\n",
              "    }\n",
              "</style>\n",
              "<table border=\"1\" class=\"dataframe\">\n",
              "  <thead>\n",
              "    <tr style=\"text-align: right;\">\n",
              "      <th></th>\n",
              "      <th>node1</th>\n",
              "      <th>node2</th>\n",
              "      <th>label</th>\n",
              "      <th>cn</th>\n",
              "      <th>pa</th>\n",
              "      <th>tn</th>\n",
              "      <th>minTriangles</th>\n",
              "      <th>maxTriangles</th>\n",
              "      <th>minCoefficient</th>\n",
              "      <th>maxCoefficient</th>\n",
              "      <th>sp</th>\n",
              "      <th>sl</th>\n",
              "    </tr>\n",
              "  </thead>\n",
              "  <tbody>\n",
              "    <tr>\n",
              "      <th>0</th>\n",
              "      <td>11213</td>\n",
              "      <td>22326</td>\n",
              "      <td>1</td>\n",
              "      <td>2.000</td>\n",
              "      <td>84.000</td>\n",
              "      <td>18.000</td>\n",
              "      <td>6</td>\n",
              "      <td>15</td>\n",
              "      <td>0.000</td>\n",
              "      <td>1.000</td>\n",
              "      <td>1.000</td>\n",
              "      <td>0.000</td>\n",
              "    </tr>\n",
              "    <tr>\n",
              "      <th>1</th>\n",
              "      <td>18640</td>\n",
              "      <td>18641</td>\n",
              "      <td>1</td>\n",
              "      <td>2.000</td>\n",
              "      <td>9.000</td>\n",
              "      <td>4.000</td>\n",
              "      <td>3</td>\n",
              "      <td>3</td>\n",
              "      <td>0.000</td>\n",
              "      <td>0.000</td>\n",
              "      <td>1.000</td>\n",
              "      <td>1.000</td>\n",
              "    </tr>\n",
              "    <tr>\n",
              "      <th>2</th>\n",
              "      <td>17946</td>\n",
              "      <td>17947</td>\n",
              "      <td>1</td>\n",
              "      <td>3.000</td>\n",
              "      <td>16.000</td>\n",
              "      <td>5.000</td>\n",
              "      <td>6</td>\n",
              "      <td>6</td>\n",
              "      <td>0.000</td>\n",
              "      <td>0.000</td>\n",
              "      <td>1.000</td>\n",
              "      <td>1.000</td>\n",
              "    </tr>\n",
              "    <tr>\n",
              "      <th>3</th>\n",
              "      <td>22834</td>\n",
              "      <td>12111</td>\n",
              "      <td>0</td>\n",
              "      <td>0.000</td>\n",
              "      <td>16.000</td>\n",
              "      <td>8.000</td>\n",
              "      <td>6</td>\n",
              "      <td>6</td>\n",
              "      <td>0.000</td>\n",
              "      <td>0.273</td>\n",
              "      <td>1.000</td>\n",
              "      <td>0.000</td>\n",
              "    </tr>\n",
              "    <tr>\n",
              "      <th>4</th>\n",
              "      <td>9609</td>\n",
              "      <td>8250</td>\n",
              "      <td>0</td>\n",
              "      <td>1.000</td>\n",
              "      <td>114.000</td>\n",
              "      <td>40.000</td>\n",
              "      <td>3</td>\n",
              "      <td>61</td>\n",
              "      <td>0.176</td>\n",
              "      <td>1.000</td>\n",
              "      <td>0.000</td>\n",
              "      <td>0.000</td>\n",
              "    </tr>\n",
              "  </tbody>\n",
              "</table>\n",
              "</div>"
            ],
            "text/plain": [
              "   node1  node2 label    cn      pa     tn  minTriangles  maxTriangles  \\\n",
              "0  11213  22326     1 2.000  84.000 18.000             6            15   \n",
              "1  18640  18641     1 2.000   9.000  4.000             3             3   \n",
              "2  17946  17947     1 3.000  16.000  5.000             6             6   \n",
              "3  22834  12111     0 0.000  16.000  8.000             6             6   \n",
              "4   9609   8250     0 1.000 114.000 40.000             3            61   \n",
              "\n",
              "   minCoefficient  maxCoefficient    sp    sl  \n",
              "0           0.000           1.000 1.000 0.000  \n",
              "1           0.000           0.000 1.000 1.000  \n",
              "2           0.000           0.000 1.000 1.000  \n",
              "3           0.000           0.273 1.000 0.000  \n",
              "4           0.176           1.000 0.000 0.000  "
            ]
          },
          "metadata": {}
        }
      ],
      "id": "vNVQ593SdeA0"
    },
    {
      "cell_type": "code",
      "source": [
        "test_df.head()"
      ],
      "metadata": {
        "id": "y9dsmjrNdeA0",
        "outputId": "fae661fd-2e3d-4159-b36b-30f68ecd7176"
      },
      "execution_count": null,
      "outputs": [
        {
          "execution_count": 68,
          "output_type": "execute_result",
          "data": {
            "text/html": [
              "<div>\n",
              "<style scoped>\n",
              "    .dataframe tbody tr th:only-of-type {\n",
              "        vertical-align: middle;\n",
              "    }\n",
              "\n",
              "    .dataframe tbody tr th {\n",
              "        vertical-align: top;\n",
              "    }\n",
              "\n",
              "    .dataframe thead th {\n",
              "        text-align: right;\n",
              "    }\n",
              "</style>\n",
              "<table border=\"1\" class=\"dataframe\">\n",
              "  <thead>\n",
              "    <tr style=\"text-align: right;\">\n",
              "      <th></th>\n",
              "      <th>node1</th>\n",
              "      <th>node2</th>\n",
              "      <th>label</th>\n",
              "      <th>cn</th>\n",
              "      <th>pa</th>\n",
              "      <th>tn</th>\n",
              "      <th>minTriangles</th>\n",
              "      <th>maxTriangles</th>\n",
              "      <th>minCoefficient</th>\n",
              "      <th>maxCoefficient</th>\n",
              "      <th>sp</th>\n",
              "      <th>sl</th>\n",
              "    </tr>\n",
              "  </thead>\n",
              "  <tbody>\n",
              "    <tr>\n",
              "      <th>0</th>\n",
              "      <td>13035</td>\n",
              "      <td>7572</td>\n",
              "      <td>0</td>\n",
              "      <td>1.000</td>\n",
              "      <td>56.000</td>\n",
              "      <td>17.000</td>\n",
              "      <td>6</td>\n",
              "      <td>27</td>\n",
              "      <td>0.297</td>\n",
              "      <td>1.000</td>\n",
              "      <td>1.000</td>\n",
              "      <td>0.000</td>\n",
              "    </tr>\n",
              "    <tr>\n",
              "      <th>1</th>\n",
              "      <td>18506</td>\n",
              "      <td>16029</td>\n",
              "      <td>0</td>\n",
              "      <td>1.000</td>\n",
              "      <td>28.000</td>\n",
              "      <td>10.000</td>\n",
              "      <td>6</td>\n",
              "      <td>9</td>\n",
              "      <td>0.429</td>\n",
              "      <td>1.000</td>\n",
              "      <td>1.000</td>\n",
              "      <td>0.000</td>\n",
              "    </tr>\n",
              "    <tr>\n",
              "      <th>2</th>\n",
              "      <td>12605</td>\n",
              "      <td>12606</td>\n",
              "      <td>1</td>\n",
              "      <td>2.000</td>\n",
              "      <td>21.000</td>\n",
              "      <td>8.000</td>\n",
              "      <td>3</td>\n",
              "      <td>9</td>\n",
              "      <td>0.429</td>\n",
              "      <td>1.000</td>\n",
              "      <td>1.000</td>\n",
              "      <td>0.000</td>\n",
              "    </tr>\n",
              "    <tr>\n",
              "      <th>3</th>\n",
              "      <td>7347</td>\n",
              "      <td>9557</td>\n",
              "      <td>0</td>\n",
              "      <td>0.000</td>\n",
              "      <td>24.000</td>\n",
              "      <td>10.000</td>\n",
              "      <td>6</td>\n",
              "      <td>6</td>\n",
              "      <td>0.400</td>\n",
              "      <td>1.000</td>\n",
              "      <td>0.000</td>\n",
              "      <td>0.000</td>\n",
              "    </tr>\n",
              "    <tr>\n",
              "      <th>4</th>\n",
              "      <td>27241</td>\n",
              "      <td>27244</td>\n",
              "      <td>1</td>\n",
              "      <td>3.000</td>\n",
              "      <td>16.000</td>\n",
              "      <td>5.000</td>\n",
              "      <td>6</td>\n",
              "      <td>6</td>\n",
              "      <td>1.000</td>\n",
              "      <td>1.000</td>\n",
              "      <td>1.000</td>\n",
              "      <td>1.000</td>\n",
              "    </tr>\n",
              "  </tbody>\n",
              "</table>\n",
              "</div>"
            ],
            "text/plain": [
              "   node1  node2 label    cn     pa     tn  minTriangles  maxTriangles  \\\n",
              "0  13035   7572     0 1.000 56.000 17.000             6            27   \n",
              "1  18506  16029     0 1.000 28.000 10.000             6             9   \n",
              "2  12605  12606     1 2.000 21.000  8.000             3             9   \n",
              "3   7347   9557     0 0.000 24.000 10.000             6             6   \n",
              "4  27241  27244     1 3.000 16.000  5.000             6             6   \n",
              "\n",
              "   minCoefficient  maxCoefficient    sp    sl  \n",
              "0           0.297           1.000 1.000 0.000  \n",
              "1           0.429           1.000 1.000 0.000  \n",
              "2           0.429           1.000 1.000 0.000  \n",
              "3           0.400           1.000 0.000 0.000  \n",
              "4           1.000           1.000 1.000 1.000  "
            ]
          },
          "metadata": {}
        }
      ],
      "id": "y9dsmjrNdeA0"
    },
    {
      "cell_type": "markdown",
      "source": [
        "### Model 4: using graph parameters (cn, pa, tn), triangles, cluste coefficients, and community detection coefficients as features"
      ],
      "metadata": {
        "id": "KctWTWW_deA1"
      },
      "id": "KctWTWW_deA1"
    },
    {
      "cell_type": "code",
      "source": [
        "columns = [\n",
        "    \"cn\", \"pa\", \"tn\", # graph features\n",
        "    \"minTriangles\", \"maxTriangles\", \"minCoefficient\", \"maxCoefficient\", # triangle features\n",
        "    \"sp\", \"sl\" # community features\n",
        "]\n",
        "\n",
        "X = training_df[columns]\n",
        "y = training_df[\"label\"]\n",
        "classifier.fit(X, y)\n",
        "\n",
        "predictions = classifier.predict(test_df[columns])\n",
        "y_test = test_df[\"label\"]\n",
        "\n",
        "display(\"Accuracy\", accuracy_score(y_test, predictions))\n",
        "display(\"Precision\", precision_score(y_test, predictions))\n",
        "display(\"Recall\", recall_score(y_test, predictions))\n",
        "display(\"AUC\",roc_auc_score(y_test, predictions))\n",
        "display(\"Confusion_matrix\",confusion_matrix(y_test, predictions, labels = [0,1]))\n",
        "\n",
        "sorted(list(zip(columns, classifier.feature_importances_)), key = lambda x: x[1]*-1)"
      ],
      "metadata": {
        "id": "fOG-N7CNdeA1",
        "outputId": "89852ba2-58ff-46a4-f85e-07a9c6c6b07f"
      },
      "execution_count": null,
      "outputs": [
        {
          "output_type": "display_data",
          "data": {
            "text/plain": [
              "'Accuracy'"
            ]
          },
          "metadata": {}
        },
        {
          "output_type": "display_data",
          "data": {
            "text/plain": [
              "0.9886325362074773"
            ]
          },
          "metadata": {}
        },
        {
          "output_type": "display_data",
          "data": {
            "text/plain": [
              "'Precision'"
            ]
          },
          "metadata": {}
        },
        {
          "output_type": "display_data",
          "data": {
            "text/plain": [
              "0.9854983546210051"
            ]
          },
          "metadata": {}
        },
        {
          "output_type": "display_data",
          "data": {
            "text/plain": [
              "'Recall'"
            ]
          },
          "metadata": {}
        },
        {
          "output_type": "display_data",
          "data": {
            "text/plain": [
              "0.991860334568317"
            ]
          },
          "metadata": {}
        },
        {
          "output_type": "display_data",
          "data": {
            "text/plain": [
              "'AUC'"
            ]
          },
          "metadata": {}
        },
        {
          "output_type": "display_data",
          "data": {
            "text/plain": [
              "0.9886325362074773"
            ]
          },
          "metadata": {}
        },
        {
          "output_type": "display_data",
          "data": {
            "text/plain": [
              "'Confusion_matrix'"
            ]
          },
          "metadata": {}
        },
        {
          "output_type": "display_data",
          "data": {
            "text/plain": [
              "array([[17554,   260],\n",
              "       [  145, 17669]], dtype=int64)"
            ]
          },
          "metadata": {}
        },
        {
          "execution_count": 69,
          "output_type": "execute_result",
          "data": {
            "text/plain": [
              "[('cn', 0.6446667160858881),\n",
              " ('sl', 0.17708355425134864),\n",
              " ('sp', 0.0814853038475343),\n",
              " ('tn', 0.052284944377609305),\n",
              " ('pa', 0.01813653083007172),\n",
              " ('maxTriangles', 0.014374727059866666),\n",
              " ('minTriangles', 0.01054056725244124),\n",
              " ('maxCoefficient', 0.00102907054213552),\n",
              " ('minCoefficient', 0.0003985857531044248)]"
            ]
          },
          "metadata": {}
        }
      ],
      "id": "fOG-N7CNdeA1"
    },
    {
      "cell_type": "markdown",
      "source": [
        "# Models results"
      ],
      "metadata": {
        "id": "UNXJ9NzndeA1"
      },
      "id": "UNXJ9NzndeA1"
    },
    {
      "cell_type": "code",
      "source": [
        "m4l = [accuracy_score(y_test, predictions),precision_score(y_test, predictions),recall_score(y_test, predictions),roc_auc_score(y_test, predictions)]\n",
        "results['Model 4'] = m4l\n",
        "results"
      ],
      "metadata": {
        "id": "XIY48NhUdeA2",
        "outputId": "ea87efa4-dc84-4d03-9fc2-48170819ebc4"
      },
      "execution_count": null,
      "outputs": [
        {
          "execution_count": 70,
          "output_type": "execute_result",
          "data": {
            "text/html": [
              "<div>\n",
              "<style scoped>\n",
              "    .dataframe tbody tr th:only-of-type {\n",
              "        vertical-align: middle;\n",
              "    }\n",
              "\n",
              "    .dataframe tbody tr th {\n",
              "        vertical-align: top;\n",
              "    }\n",
              "\n",
              "    .dataframe thead th {\n",
              "        text-align: right;\n",
              "    }\n",
              "</style>\n",
              "<table border=\"1\" class=\"dataframe\">\n",
              "  <thead>\n",
              "    <tr style=\"text-align: right;\">\n",
              "      <th></th>\n",
              "      <th>Model 1</th>\n",
              "      <th>Model 2</th>\n",
              "      <th>Model 3</th>\n",
              "      <th>Model 4</th>\n",
              "    </tr>\n",
              "  </thead>\n",
              "  <tbody>\n",
              "    <tr>\n",
              "      <th>Accuracy</th>\n",
              "      <td>0.974</td>\n",
              "      <td>0.980</td>\n",
              "      <td>0.984</td>\n",
              "      <td>0.989</td>\n",
              "    </tr>\n",
              "    <tr>\n",
              "      <th>Precision</th>\n",
              "      <td>0.985</td>\n",
              "      <td>0.984</td>\n",
              "      <td>0.985</td>\n",
              "      <td>0.985</td>\n",
              "    </tr>\n",
              "    <tr>\n",
              "      <th>Recall</th>\n",
              "      <td>0.963</td>\n",
              "      <td>0.975</td>\n",
              "      <td>0.983</td>\n",
              "      <td>0.992</td>\n",
              "    </tr>\n",
              "    <tr>\n",
              "      <th>AUC</th>\n",
              "      <td>0.974</td>\n",
              "      <td>0.980</td>\n",
              "      <td>0.984</td>\n",
              "      <td>0.989</td>\n",
              "    </tr>\n",
              "  </tbody>\n",
              "</table>\n",
              "</div>"
            ],
            "text/plain": [
              "           Model 1  Model 2  Model 3  Model 4\n",
              "Accuracy     0.974    0.980    0.984    0.989\n",
              "Precision    0.985    0.984    0.985    0.985\n",
              "Recall       0.963    0.975    0.983    0.992\n",
              "AUC          0.974    0.980    0.984    0.989"
            ]
          },
          "metadata": {}
        }
      ],
      "id": "XIY48NhUdeA2"
    },
    {
      "cell_type": "code",
      "source": [
        "def plot_feature_importance(fields, feature_importances):\n",
        " df = pd.DataFrame({\"Feature\": fields, \"Importance\": feature_importances})\n",
        " df = df.sort_values(\"Importance\", ascending=False)\n",
        " ax = df.plot(kind='bar', x='Feature', y='Importance', legend=None, color=\"blue\", figsize=(13,10))\n",
        " ax.xaxis.set_label_text(\"\")\n",
        " plt.tight_layout()\n",
        " plt.xticks(rotation=45)\n",
        " plt.show()"
      ],
      "metadata": {
        "id": "Q-x7OE31deA2"
      },
      "execution_count": null,
      "outputs": [],
      "id": "Q-x7OE31deA2"
    },
    {
      "cell_type": "markdown",
      "source": [
        "## Features importance"
      ],
      "metadata": {
        "id": "4ymLWzASdeA2"
      },
      "id": "4ymLWzASdeA2"
    },
    {
      "cell_type": "code",
      "source": [
        "plot_feature_importance(columns, classifier.feature_importances_)"
      ],
      "metadata": {
        "id": "kBG_J6-ZdeA2",
        "outputId": "2af728b6-320e-4ac8-8824-b13e6eea1e0e"
      },
      "execution_count": null,
      "outputs": [
        {
          "output_type": "display_data",
          "data": {
            "image/png": "[encoded data removed]",
            "text/plain": [
              "<Figure size 936x720 with 1 Axes>"
            ]
          },
          "metadata": {}
        }
      ],
      "id": "kBG_J6-ZdeA2"
    },
    {
      "cell_type": "markdown",
      "source": [
        "**Conclusions**:\n",
        "\n",
        "* Model 4 outstanded the rest of the models with and accuracy of 99% in predicting future collaborations between actors.\n",
        "\n",
        "* According with the observations, the common Neighbors and the 2 community detection are the most important features when predicting relationships between nodes in this dataset."
      ],
      "metadata": {
        "id": "Mdjb6zrvdeA2"
      },
      "id": "Mdjb6zrvdeA2"
    },
    {
      "cell_type": "markdown",
      "source": [
        "***"
      ],
      "metadata": {
        "id": "nvGJjDZfdeA3"
      },
      "id": "nvGJjDZfdeA3"
    },
    {
      "cell_type": "markdown",
      "source": [
        "**License**\n",
        "\n",
        "This Notebook has been released under the [Apache 2.0](http://www.apache.org/licenses/LICENSE-2.0) open source license."
      ],
      "metadata": {
        "id": "ipS_0RfideA3"
      },
      "id": "ipS_0RfideA3"
    }
  ]
}